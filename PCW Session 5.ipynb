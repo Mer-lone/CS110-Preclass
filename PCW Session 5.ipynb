{
 "cells": [
  {
   "cell_type": "markdown",
   "metadata": {},
   "source": [
    "Before you turn this problem in, make sure everything runs as expected. First, **restart the kernel** (in the menubar, select Kernel$\\rightarrow$Restart) and then **run all cells** (in the menubar, select Cell$\\rightarrow$Run All).\n",
    "\n",
    "Note that this Pre-class Work is estimated to take **1 hour and 30 minutes**.\n",
    "\n",
    "Make sure you fill in any place that says `YOUR CODE HERE` or \"YOUR ANSWER HERE\", as well as your name and collaborators below:"
   ]
  },
  {
   "cell_type": "code",
   "execution_count": 1,
   "metadata": {},
   "outputs": [],
   "source": [
    "NAME = \"Adaobi Amanna\"\n",
    "COLLABORATORS = \"\""
   ]
  },
  {
   "cell_type": "markdown",
   "metadata": {},
   "source": [
    "---"
   ]
  },
  {
   "cell_type": "markdown",
   "metadata": {
    "deletable": false,
    "editable": false,
    "nbgrader": {
     "checksum": "ff3288a2b0acfc2e2f917a549d038e5c",
     "grade": false,
     "grade_id": "cell-9e44910e5a73668d",
     "locked": true,
     "schema_version": 1,
     "solution": false
    }
   },
   "source": [
    "# CS110 Pre-class Work - Mergesort and recurrences\n",
    "\n",
    "## Question 1 [time estimate: 20 minutes]\n",
    "\n",
    "First, please read carefully [this note](https://drive.google.com/open?id=1SfrRTKWDb6szsJENgvNF7-u2B96ecaF2), which reviews the MERGE operation in Cormen et al.\n",
    "\n",
    "After reviewing the example above (Cormen et al., Figure 2.3),  you need to manually create similar illustrations as in the example above but this time for the input array:\n",
    "\n",
    "![array](array.png)\n",
    "\n",
    "For this exercise, assume that the call to the algorithm is MERGE(A, 1, 3, 6) and draw different resulting stages of the arrays A, L, and R as the merge algorithm is executed.  You can hand-draw or use any drawing tool to produce panel illustrations, as in the example above.  Include your final drawings in the cell below. Feel free to use additional cells (Markdown or Code) for this question.\n",
    "\n",
    "**Note**: ```MERGE``` function is to combine two lists together, not to create a sorted list. Please check the parameters carefully to correctly identify two sub-lists you need to merge."
   ]
  },
  {
   "cell_type": "markdown",
   "metadata": {
    "deletable": false,
    "nbgrader": {
     "checksum": "b4d0caf51fb6b587f68db4e806af35d0",
     "grade": true,
     "grade_id": "cell-badbff7790708987",
     "locked": false,
     "points": 0,
     "schema_version": 1,
     "solution": true
    }
   },
   "source": [
    "\n",
    "[2,6,7,8,1,4,6,9],<br />\n",
    "\n",
    "[6,7,8]    [**1**,4,6],<br />\n",
    "\n",
    "[2,**1**,7,8,1,4,6,9], <br />\n",
    "\n",
    "[6,7,8]    [1,**4**,6], <br />\n",
    "\n",
    "[2,1,**4**,8,1,4,6,9], <br />\n",
    "\n",
    "[6,7,8]    [1,4,**6**],<br />\n",
    "\n",
    "[2,1,4,**6**,1,4,6,9], <br />\n",
    "\n",
    "[6,**7**,8]    [1,4,6],<br />\n",
    "\n",
    "[2,1,4,6,1,**7**,4,9],<br />\n",
    "\n",
    "[6,7,**8**]    [1,4,6],<br />\n",
    "\n",
    "[2,1,4,6,1,7,**8**,9]<br />"
   ]
  },
  {
   "cell_type": "markdown",
   "metadata": {
    "deletable": false,
    "editable": false,
    "nbgrader": {
     "checksum": "7c9608898d23ecbe07c084ca6d6da655",
     "grade": false,
     "grade_id": "cell-6dd1317d1ea8ab9f",
     "locked": true,
     "schema_version": 1,
     "solution": false
    }
   },
   "source": [
    "## Question 2 [time estimate: 5 minutes]\n",
    "Now using your understanding of Part I of the merge algorithm, can you think of an efficient way to implement this part in Python? (hint: using Python lists). Give your answer in prose in the cell below."
   ]
  },
  {
   "cell_type": "markdown",
   "metadata": {
    "deletable": false,
    "nbgrader": {
     "checksum": "9bf35550640c33f366c5cffad7fdf33a",
     "grade": true,
     "grade_id": "cell-4f961721620a6645",
     "locked": false,
     "points": 0,
     "schema_version": 1,
     "solution": true
    }
   },
   "source": [
    "since the time usage is O(N), we can make it more efficient by addressing the space usage. We can start applying the merge function without first initializing a new array."
   ]
  },
  {
   "cell_type": "markdown",
   "metadata": {
    "deletable": false,
    "editable": false,
    "nbgrader": {
     "checksum": "010584ea3a4f00fba43b52bb04cd0ed2",
     "grade": false,
     "grade_id": "cell-84932c7c0c20b750",
     "locked": true,
     "schema_version": 1,
     "solution": false
    }
   },
   "source": [
    "## Question 3 [time estimate: 20 minutes]\n",
    "\n",
    "Write a Python implementation of the merge pseudocode (both parts). Your Python function must take the same four input arguments as described in the $MERGE(A,p,q,r)$. Test your code by running the example in problem 1 and 2 of this pre-class work. Feel free to come up with additional cases to check if your code is working properly. Your code should return A.\n",
    "\n",
    "**Note**: Please note that the pseudocde in Cormen et. al. works with the indexing convention starting at 1; in Python we will use the customary indexing convention starting at 0."
   ]
  },
  {
   "cell_type": "code",
   "execution_count": 16,
   "metadata": {
    "deletable": false,
    "nbgrader": {
     "checksum": "43760e27d0b385c30476353b3d546a79",
     "grade": false,
     "grade_id": "cell-a67719d65c1ac9f3",
     "locked": false,
     "schema_version": 1,
     "solution": true
    }
   },
   "outputs": [
    {
     "name": "stdout",
     "output_type": "stream",
     "text": [
      "[2, 1, 4, 6, 6, 7, 8, 9]\n",
      "[3, 2, 6, 7, 8, 1, 9, 4, 6, 1, 9]\n"
     ]
    }
   ],
   "source": [
    "def merge(A, p, q, r):\n",
    "    #start by initializing the length of left and right sub-arrays\n",
    "    left = q - p + 1\n",
    "    right = r - q \n",
    "  \n",
    "    #initialize a temporary holder \n",
    "    L = [0] * (left) \n",
    "    R = [0] * (right) \n",
    "    \n",
    "#loop through the left and right sub-arrays and copy to the temporal holders L[] and R[] \n",
    "    for i in range(left): \n",
    "        L[i] = A[p + i] \n",
    "  \n",
    "    for j in range(right): \n",
    "        R[j] = A[q + 1 + j] \n",
    "  \n",
    "    # Merges the temporary arrays into arr[p..r] \n",
    "    i = 0     # Initialize the index of first subarray \n",
    "    j = 0     # Initialize the index of second subarray\n",
    "    k = p     # Initialize the index of merged subarray\n",
    "  \n",
    "    #while a condition is in place, loops through the arrays and modify\n",
    "    while i < left and j < right : \n",
    "        if L[i] <= R[j]: \n",
    "            A[k] = L[i] \n",
    "            i += 1\n",
    "        else: \n",
    "            A[k] = R[j] \n",
    "            j += 1\n",
    "        k += 1\n",
    "  \n",
    "    # Copies the remaining elements of L[]\n",
    "    while i < left: \n",
    "        A[k] = L[i] \n",
    "        i += 1\n",
    "        k += 1\n",
    "    # Copy the remaining elements of R[] \n",
    "    while j < right: \n",
    "        A[k] = R[j] \n",
    "        j += 1\n",
    "        k += 1\n",
    "\n",
    "    return A\n",
    "print(merge([2,6,7,8,1,4,6,9],1,3,6))\n",
    "\n",
    "print(merge([3,2,6,7,9,8,1,4,6,1,9],2,4,6))"
   ]
  },
  {
   "cell_type": "code",
   "execution_count": null,
   "metadata": {
    "deletable": false,
    "editable": false,
    "nbgrader": {
     "checksum": "699908274975a6bff4f9fb021e666ce4",
     "grade": true,
     "grade_id": "cell-e98759fe14428af0",
     "locked": true,
     "points": 0,
     "schema_version": 1,
     "solution": false
    }
   },
   "outputs": [],
   "source": [
    "# Please ignore this cell. This cell is for us to implement the tests \n",
    "# to see if your code works properly. "
   ]
  },
  {
   "cell_type": "markdown",
   "metadata": {
    "deletable": false,
    "nbgrader": {
     "checksum": "b2d80ef5c8845de0122c6420b853605d",
     "grade": false,
     "grade_id": "cell-49f3f61ee6d72bb9",
     "locked": true,
     "schema_version": 1,
     "solution": false
    }
   },
   "source": [
    "## Question 4 [time estimate: 5 minutes]\n",
    "\n",
    "Suppose that your Python implementation of the merge algorithm is already working. Read and comment the code for merge sort below:"
   ]
  },
  {
   "cell_type": "code",
   "execution_count": 6,
   "metadata": {
    "deletable": false,
    "nbgrader": {
     "checksum": "53611abb1448334a346783091382fb12",
     "grade": false,
     "grade_id": "cell-073a21c6aac8225e",
     "locked": true,
     "schema_version": 1,
     "solution": false
    }
   },
   "outputs": [],
   "source": [
    " \n",
    "\n",
    "def merge_sort(A,p,r):\n",
    "    \"\"\"\"\"\"\"\"\"\n",
    "This function uses the divide and conquer approach to sort an array recursively\n",
    "It divides the array, then calls the function recursively combines ones it gets\n",
    "to the base case.\n",
    "    \"\"\"\"\"\"\"\"\"\n",
    "    if p < r:\n",
    "        \n",
    "#initializes the condition for applying the recursive function\n",
    "        \n",
    "        q = (p+r)//2\n",
    "#finds the middle of the array by dividing without remainder to get the mid value.\n",
    "#using a // in this case also helps especially if the array is odd\n",
    "        \n",
    "        merge_sort(A,p,q)\n",
    "#This recursively calls the Left side of the array and further breaks it down\n",
    "    \n",
    "        merge_sort(A,q+1,r)\n",
    "#this calls the right side recursively\n",
    "\n",
    "        merge(A,p,q,r)\n",
    "#calls the merge function that sorts recursively and combines.\n",
    "\n",
    "    return(A)"
   ]
  },
  {
   "cell_type": "code",
   "execution_count": null,
   "metadata": {
    "deletable": false,
    "editable": false,
    "nbgrader": {
     "checksum": "35fbb3c437b3ba39ede0d87d6719223b",
     "grade": true,
     "grade_id": "cell-a3a71f67390c1f82",
     "locked": true,
     "points": 0,
     "schema_version": 1,
     "solution": false
    }
   },
   "outputs": [],
   "source": [
    "# Please ignore this cell. This cell is for us to implement the tests \n",
    "# to see if your code works properly. "
   ]
  },
  {
   "cell_type": "markdown",
   "metadata": {
    "deletable": false,
    "nbgrader": {
     "checksum": "61cfba995efe3c9c37092a650047fdf3",
     "grade": false,
     "grade_id": "cell-5b296f793fefdbfe",
     "locked": true,
     "schema_version": 1,
     "solution": false
    }
   },
   "source": [
    "## Question 5 [time estimate: 15 minutes]\n",
    "Count the number of steps and time your merge_sort() function with the following input: `list_k = [i for i in range(100*k, 0, -1)] `, where $k= 1, 2, 3, …, 15 $. If you are not familiar with what this piece of code is doing, you may want to check the \"List Comprehension\" section in this [Python Help Sheet](https://drive.google.com/open?id=1paW2ByiraoDQViie0gGxApRN9DKbjHGx).\n"
   ]
  },
  {
   "cell_type": "code",
   "execution_count": 17,
   "metadata": {
    "deletable": false,
    "nbgrader": {
     "checksum": "cc3f59157e795d05422e849f3e7cc03a",
     "grade": true,
     "grade_id": "cell-8a4233ab58d3d0bb",
     "locked": false,
     "points": 0,
     "schema_version": 1,
     "solution": true
    }
   },
   "outputs": [
    {
     "name": "stdout",
     "output_type": "stream",
     "text": [
      "[99, 199, 299, 399, 499, 599, 699, 799, 899, 999, 1099, 1199, 1299, 1399, 1499]\n"
     ]
    }
   ],
   "source": [
    "def stepcount():\n",
    "    #initialize the counter\n",
    "    counter = []\n",
    "    lst = []\n",
    "    #makes 15 counts for k = 1 ... 15\n",
    "    for k in range(1,16):\n",
    "        #create a list for the range of input. \n",
    "        list_k = [i for i in range(100 *k, 0,-1)]\n",
    "        #calls the merge sort function and appends the final count to a list\n",
    "        Z,fincounter = merge_sort(list_k, 0,len(list_k)-1,counter[:])\n",
    "        lst.append(sum(fincounter))\n",
    "    return lst\n",
    "    \n",
    "    \n",
    "\n",
    "    \n",
    "def merge_sort(A,p,r, counter):\n",
    "    \"\"\"\"\"\"\"\"\"\n",
    "This function uses the divide and conquer approach to sort an array recursively\n",
    "It divides the array, then calls the function recursively combines ones it gets\n",
    "to the base case.\n",
    "Additionally, we add a counter to count the steps taken.\n",
    "    \"\"\"\"\"\"\"\"\"\n",
    "    if p < r:\n",
    "        \n",
    "#initializes the condition for applying the recursive function\n",
    "        \n",
    "        q = (p+r)//2\n",
    "#finds the middle of the array by dividing without remainder to get the mid value.\n",
    "#using a // in this case also helps especially if the array is odd\n",
    "        \n",
    "        counter.append(1)\n",
    "        #update counter\n",
    "        \n",
    "        merge_sort(A,p,q,counter)\n",
    "#This recursively calls the Left side of the array and further breaks it down\n",
    "    \n",
    "        merge_sort(A,q+1,r,counter)\n",
    "#this calls the right side recursively\n",
    "\n",
    "        merge(A,p,q,r)\n",
    "#calls the merge function that sorts recursively and combines.\n",
    "\n",
    "    return(A,counter)\n",
    "print(stepcount())"
   ]
  },
  {
   "cell_type": "markdown",
   "metadata": {
    "deletable": false,
    "editable": false
   },
   "source": [
    "## Question 6 [time estimate: 25 minutes] \n",
    "Use the code you wrote for Lesson \"Measuring algorithms' efficiency\" (i.e., selection sort, bubble sort, insertion sort). Plot the following graphs:\n",
    "* **Graph 1**: 4 lines for **the number of steps** of each of the 4 sorting algorithms (i.e., selection sort, bubble sort, insertion sort, merge sort). Which algorithm performs best? Why? \n",
    "* **Graph 2**: 4 lines for **the timing** of each of the 4 sorting algorithms (i.e., selection sort, bubble sort, insertion sort, merge sort). Which algorithm performs best? Why?\n",
    "\n",
    "Use as many cells as you wish (code cells or markdown cells alike) to complete this question.\n",
    "\n",
    "You may find the section \"Simple 2-Dimensional Plots in Python\" in this [Python Help Sheet](https://drive.google.com/open?id=1paW2ByiraoDQViie0gGxApRN9DKbjHGx) helpful."
   ]
  },
  {
   "cell_type": "code",
   "execution_count": 12,
   "metadata": {
    "deletable": false,
    "nbgrader": {
     "checksum": "0561f29260f91795736500d62066a4c7",
     "grade": true,
     "grade_id": "cell-d09efb7c7fe55e69",
     "locked": false,
     "points": 0,
     "schema_version": 1,
     "solution": true
    }
   },
   "outputs": [
    {
     "data": {
      "image/png": "[encoded data removed]",
      "text/plain": [
       "<Figure size 432x288 with 1 Axes>"
      ]
     },
     "metadata": {
      "needs_background": "light"
     },
     "output_type": "display_data"
    }
   ],
   "source": [
    "import timeit   #imports the timer module\n",
    "\n",
    "start = timeit.default_timer()  #starts the timer for a function\n",
    "\n",
    "#insertion sort algorithm\n",
    "def insertion_sort(A):\n",
    "    count = 0\n",
    "    for j in range(1,len(A)):\n",
    "        i = j-1\n",
    "        key = A[j]\n",
    "        while i >= 0 and A[i] > key:\n",
    "            A[i+1] = A[i]\n",
    "            i-=1\n",
    "            count+=1\n",
    "        A[i+1] = key\n",
    "    #returns the count\n",
    "    return count\n",
    "        \n",
    "stop = timeit.default_timer()  #stops the timer\n",
    "insert =  stop - start\n",
    "            \n",
    "\n",
    "start = timeit.default_timer()\n",
    "\n",
    "#bubblesort algorithm\n",
    "def bubble_sort(A):\n",
    "    count = 0\n",
    "    for i in range(len(A)-1):\n",
    "        for j in range(len(A)-1,i,-1):\n",
    "            if A[j-1] > A[j]:\n",
    "                count+=1\n",
    "                A[j-1],A[j] = A[j] ,A[j-1]\n",
    "   \n",
    "    return count\n",
    "stop = timeit.default_timer()\n",
    "bubble = stop - start\n",
    "\n",
    "\n",
    "start = timeit.default_timer()\n",
    "#selection algorithm\n",
    "def smallest(A):\n",
    "    count = 0\n",
    "    small = float('inf')\n",
    "    for i in range(len(A)):\n",
    "        if A[i] < small:\n",
    "            small = A[i]\n",
    "            index = i\n",
    "            count+=1\n",
    "    return index, count\n",
    "\n",
    "def selection_sort(A):\n",
    "    final_count = 0\n",
    "    lst =[]\n",
    "    for j in range(len(A)):\n",
    "        a,b = smallest(A)\n",
    "        lst.append(A.pop(a))\n",
    "        final_count += b\n",
    "\n",
    "    return final_count\n",
    "    \n",
    "\n",
    "stop = timeit.default_timer()\n",
    "selection = stop - start\n",
    "\n",
    "\n",
    "start = timeit.default_timer()\n",
    "\n",
    "    \n",
    "def merge_sort(A,p,r,counter):\n",
    "    if p < r:\n",
    "        #finds the mid value\n",
    "        q = (p+r)//2\n",
    "        counter.append(1)\n",
    "        merge_sort(A,p,q,counter) #recursively calls the left part of the array and further divides it\n",
    "        merge_sort(A,q+1,r,counter)  #recursively calls the right part of the array\n",
    "        merge(A,p,q,r) #calls the merge that does the conquer and combine parts\n",
    "    return(A,counter)\n",
    "\n",
    "def stepcount():\n",
    "    #initializes the step counter\n",
    "    counter = []\n",
    "    #calls the merge sort function and appends the final count to a list\n",
    "    Z,fincounter = merge_sort([6,5,4,3,2,1], 0,4, counter[:])\n",
    "    return sum(fincounter)\n",
    "stop = timeit.default_timer()\n",
    "merged = stop - start\n",
    "\n",
    "\n",
    "\n",
    "from matplotlib import pyplot as plt\n",
    "names = ['Insertion', 'Bubble', 'Selection', 'Merge']\n",
    "\n",
    "\n",
    "\n",
    "a = insertion_sort([6,5,4,3,2,1])\n",
    "b =bubble_sort([6,5,4,3,2,1])\n",
    "c= selection_sort([6,5,4,3,2,1])\n",
    "d = stepcount()\n",
    "\n",
    "values = [a,b,c,d]\n",
    "\n",
    "plt.bar(names,values)\n",
    "\n",
    "\n",
    "plt.show()\n"
   ]
  },
  {
   "cell_type": "code",
   "execution_count": 14,
   "metadata": {},
   "outputs": [
    {
     "data": {
      "image/png": "[encoded data removed]",
      "text/plain": [
       "<Figure size 432x288 with 1 Axes>"
      ]
     },
     "metadata": {
      "needs_background": "light"
     },
     "output_type": "display_data"
    }
   ],
   "source": [
    "plt.bar(names,[insert, bubble, selection ,merged])\n",
    "plt.show()"
   ]
  },
  {
   "cell_type": "code",
   "execution_count": null,
   "metadata": {},
   "outputs": [],
   "source": []
  }
 ],
 "metadata": {
  "celltoolbar": "Edit Metadata",
  "kernelspec": {
   "display_name": "Python 3",
   "language": "python",
   "name": "python3"
  },
  "language_info": {
   "codemirror_mode": {
    "name": "ipython",
    "version": 3
   },
   "file_extension": ".py",
   "mimetype": "text/x-python",
   "name": "python",
   "nbconvert_exporter": "python",
   "pygments_lexer": "ipython3",
   "version": "3.8.3"
  }
 },
 "nbformat": 4,
 "nbformat_minor": 2
}
