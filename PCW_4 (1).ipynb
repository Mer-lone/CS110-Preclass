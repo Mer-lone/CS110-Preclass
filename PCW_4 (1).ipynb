{
 "cells": [
  {
   "cell_type": "markdown",
   "metadata": {},
   "source": [
    "Before you turn this problem in, make sure everything runs as expected. First, **restart the kernel** (in the menubar, select Kernel$\\rightarrow$Restart) and then **run all cells** (in the menubar, select Cell$\\rightarrow$Run All).\n",
    "\n",
    "Note that this Pre-class Work is estimated to take **31 minutes**.\n",
    "\n",
    "Make sure you fill in any place that says `YOUR CODE HERE` or \"YOUR ANSWER HERE\", as well as your name and collaborators below:"
   ]
  },
  {
   "cell_type": "code",
   "execution_count": 5,
   "metadata": {},
   "outputs": [],
   "source": [
    "NAME = \"Adaobi Amanna\"\n",
    "COLLABORATORS = \"\""
   ]
  },
  {
   "cell_type": "markdown",
   "metadata": {},
   "source": [
    "---"
   ]
  },
  {
   "cell_type": "markdown",
   "metadata": {
    "deletable": false,
    "editable": false,
    "nbgrader": {
     "checksum": "df135f0c4ea26cc7c0b25cb64a20e634",
     "grade": false,
     "grade_id": "cell-b46066345313bea6",
     "locked": true,
     "schema_version": 1,
     "solution": false
    }
   },
   "source": [
    "# CS110 Pre-class Work - Measuring algorithms' efficiency\n",
    "\n",
    "## Question 1 [time estimate: 15 minutes]\n",
    "\n",
    "Copy and paste the code for Insertion, Selection, and Bubble sort algorithms you wrote in Lesson \"Analyzing elementary sorting algorithm\" on the cells below. For each sorting algorithm, modify the code to introduce step counters. Your functions should return only the number of steps they took to sort the list. This will help you in a in-class activity for this lesson and for the PCW of the next lesson. Make sure to test your code by provinding different input lists of different sizes."
   ]
  },
  {
   "cell_type": "code",
   "execution_count": 1,
   "metadata": {
    "deletable": false,
    "nbgrader": {
     "checksum": "525698a22b0cee9c4cb74be2011232de",
     "grade": true,
     "grade_id": "cell-1eadb1312ac0519d",
     "locked": false,
     "points": 0,
     "schema_version": 1,
     "solution": true
    }
   },
   "outputs": [
    {
     "name": "stdout",
     "output_type": "stream",
     "text": [
      "7\n",
      "6\n"
     ]
    }
   ],
   "source": [
    "def insertion_sort(A):\n",
    "    counter = 0\n",
    "    for j in range(1, len(A)):\n",
    "        # Icorrected the bug here. The bug was on the definition of the range, since \n",
    "#the range is inclusive of the first element, we have to decrease it to 1\n",
    "#to accommodate the first element in the iteration.\n",
    "    \n",
    "        key = A[j]\n",
    "        #initiate the counter\n",
    "        counter+=1\n",
    "        i= j-1\n",
    " #using a while loop, iterate through the elements until every element is sorted\n",
    "        while i >= 0 and A[i]>key:\n",
    "            A[i+1] = A[i]\n",
    "            i -= 1\n",
    "        A[i+1] = key\n",
    "    #return the original array sorted in place\n",
    "    return counter\n",
    "    #raise NotImplementedError()\n",
    "    \n",
    "#Test case 1\n",
    "print(insertion_sort([10, 3, 5, 4, 6, 4,2,1]))\n",
    "#Testcase 2\n",
    "print(insertion_sort([1,2,3,4,5,6,10]))    "
   ]
  },
  {
   "cell_type": "code",
   "execution_count": 2,
   "metadata": {
    "deletable": false,
    "nbgrader": {
     "checksum": "525698a22b0cee9c4cb74be2011232de",
     "grade": true,
     "grade_id": "cell-1eadb1312ac0519d",
     "locked": false,
     "points": 0,
     "schema_version": 1,
     "solution": true
    }
   },
   "outputs": [
    {
     "data": {
      "text/plain": [
       "30"
      ]
     },
     "execution_count": 2,
     "metadata": {},
     "output_type": "execute_result"
    }
   ],
   "source": [
    "def bubble_sort(A):\n",
    "    # YOUR CODE HERE\n",
    "#I updated my code from the class to become more efficient\n",
    "\n",
    "#use 2 loops to go over the whole element, while check for order\n",
    "    counter = 0\n",
    "    for i in range(len(A)-2):\n",
    "        for j in range(len(A)-1, i+1, -1):\n",
    "        #increase the counter for everytime go through the loop\n",
    "            counter+=1\n",
    "            if A[j] < A[j-1]:\n",
    "                A[j], A[j-1] = A[j-1], A[j]\n",
    "            #Also increase the counter every time we swap\n",
    "                counter+=1\n",
    "    return counter\n",
    "\n",
    "bubble_sort([7,6,5,4,3,2,1])"
   ]
  },
  {
   "cell_type": "code",
   "execution_count": 4,
   "metadata": {
    "deletable": false,
    "nbgrader": {
     "checksum": "525698a22b0cee9c4cb74be2011232de",
     "grade": true,
     "grade_id": "cell-1eadb1312ac0519d",
     "locked": false,
     "points": 0,
     "schema_version": 1,
     "solution": true
    }
   },
   "outputs": [
    {
     "name": "stdout",
     "output_type": "stream",
     "text": [
      "28\n",
      "28\n"
     ]
    }
   ],
   "source": [
    "def selection_sort(A):\n",
    "    # YOUR CODE HERE\n",
    "    \n",
    "#introduce the counter\n",
    "    counter = 0\n",
    "#loop through the range of the input\n",
    "    for i in range(len(A)):\n",
    "        minidx = i\n",
    "        for j in range(i+1, len(A)):\n",
    "           #increase counter for the loop\n",
    "            counter +=1\n",
    "            if A[j] < A[minidx]:\n",
    "                minidx = j\n",
    "        A[i],A[minidx] = A[minidx],A[i]\n",
    "        #also increase the counter after every exchange\n",
    "        counter+=1\n",
    "    return counter\n",
    "\n",
    "print(selection_sort([7,6,5,4,3,2,1]))\n",
    "print(selection_sort([1,2,3,4,5,6,7]))"
   ]
  },
  {
   "cell_type": "markdown",
   "metadata": {
    "deletable": false,
    "editable": false,
    "nbgrader": {
     "checksum": "9d7a3b260b0fef93382fb52aa393f963",
     "grade": false,
     "grade_id": "cell-0ac1c20b43acb363",
     "locked": true,
     "schema_version": 1,
     "solution": false
    }
   },
   "source": [
    "## Question 2 [time estimate: 10 minutes]\n",
    "\n",
    "Studying these sorting algorithms in detail, identify for which kinds of input they would perform better or worst in completing the task of sorting a list. Give examples to complement your answer."
   ]
  },
  {
   "cell_type": "markdown",
   "metadata": {
    "deletable": false,
    "nbgrader": {
     "checksum": "eb02c9951e19ee43d128fa93dd53eaad",
     "grade": true,
     "grade_id": "cell-5ecb51404140cb2f",
     "locked": false,
     "points": 0,
     "schema_version": 1,
     "solution": true
    }
   },
   "source": [
    "### Best Case and Worst Case Scenario\n",
    "The best case scenario for all the sorting algorithm is when there is just a single input, so there would be no need to iterate or do any sorting because a single number is already sorted because sorting is relative to other inputs, it is in the right place.\n",
    "\n",
    "The worst case scenario when the numbers are in the reverse of the intended sorting order. For example if you are sorting in ascending order but the input is in the descending order, it takes longer to sort because the inner loop will make the maximum comparison as you will have to compare every element with every other element in the array.\n",
    "\n",
    "- **Insertion Sort**\n",
    "    - Best-case input:[1]  \n",
    "    - Worst-case input:[10,9,8,7,6,5,4,3,2,1]\n",
    "    \n",
    "- **Bubble Sort**\n",
    "    - Best-case input:[1]\n",
    "    - Worst-case input:[10,9,8,7,6,5,4,3,2,1]\n",
    "    \n",
    "- **Selection Sort**\n",
    "There is technically no best case scenario here because it takes the same time for any input, but some inputs are better another.\n",
    "    - Best-case input:[1]\n",
    "    - Worst-case input:[10,9,8,7,6,5,4,3,2,1]"
   ]
  },
  {
   "cell_type": "markdown",
   "metadata": {
    "deletable": false,
    "editable": false,
    "nbgrader": {
     "checksum": "cb0b8b9c4b153530d47b437baa24098d",
     "grade": false,
     "grade_id": "cell-b22dce6b32afe1a9",
     "locked": true,
     "schema_version": 1,
     "solution": false
    }
   },
   "source": [
    "## Question 3 [time estimate: 3 minutes]\n",
    "\n",
    "Given your answers to the previous question, is there any algorithm that performs asymptotically the same for any kind of input? In other words, for which algorithm will the bigO/bigOmega/bigTheta notation be the same regardless of whether we're dealing with best-case inputs or worst case inputs?  Explain your answer."
   ]
  },
  {
   "cell_type": "markdown",
   "metadata": {
    "deletable": false,
    "nbgrader": {
     "checksum": "4ff5af35daed9a5442ba229263bdde33",
     "grade": true,
     "grade_id": "cell-442998d5fdd8b561",
     "locked": false,
     "points": 0,
     "schema_version": 1,
     "solution": true
    }
   },
   "source": [
    "\n",
    "From my research, selection sort will have the same runtime regardless of input as both worst case and best case scenario will take [ O(N2) ] time to run. This is because the algorithm has to check the every input regardless of order of entry. There is not early termination if the inputs are sorted, it will still run regardless.\n"
   ]
  },
  {
   "cell_type": "markdown",
   "metadata": {
    "deletable": false,
    "editable": false,
    "nbgrader": {
     "checksum": "cb0b8b9c4b153530d47b437baa24098d",
     "grade": false,
     "grade_id": "cell-b22dce6b32afe1a9",
     "locked": true,
     "schema_version": 1,
     "solution": false
    }
   },
   "source": [
    "## Question 4 [time estimate: 3 minutes]\n",
    "\n",
    "Besides the step counters you introduced and the algorithms' running times you studied in the previous session, can you think of other metrics you could use to measure an algorithm's efficiency? Explain your reasoning."
   ]
  },
  {
   "cell_type": "markdown",
   "metadata": {
    "nbgrader": {
     "checksum": "4ff5af35daed9a5442ba229263bdde33",
     "grade": true,
     "grade_id": "cell-442998d5fdd8b561",
     "locked": false,
     "points": 0,
     "schema_version": 1,
     "solution": true
    }
   },
   "source": [
    "There are other ways you can measure an algorithm's efficiency for example you can measure efficiency with the space or memory space it occupies. Memory is limited to the type of computer you run the algorithm on and unfortunately it is not infinite. Since it is not limitless, an algorithm that uses less space is more desirable because it saves resources. Hence a more efficient algorithm will use less space than its counterpart."
   ]
  },
  {
   "cell_type": "code",
   "execution_count": null,
   "metadata": {},
   "outputs": [],
   "source": []
  }
 ],
 "metadata": {
  "kernelspec": {
   "display_name": "Python 3",
   "language": "python",
   "name": "python3"
  },
  "language_info": {
   "codemirror_mode": {
    "name": "ipython",
    "version": 3
   },
   "file_extension": ".py",
   "mimetype": "text/x-python",
   "name": "python",
   "nbconvert_exporter": "python",
   "pygments_lexer": "ipython3",
   "version": "3.8.3"
  }
 },
 "nbformat": 4,
 "nbformat_minor": 2
}
