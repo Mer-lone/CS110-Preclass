{
 "cells": [
  {
   "cell_type": "markdown",
   "metadata": {},
   "source": [
    "Before you turn this problem in, make sure everything runs as expected. First, **restart the kernel** (in the menubar, select Kernel$\\rightarrow$Restart) and then **run all cells** (in the menubar, select Cell$\\rightarrow$Run All).\n",
    "\n",
    "Note that this Pre-class Work is estimated to take **30 minutes**.\n",
    "\n",
    "Make sure you fill in any place that says `YOUR CODE HERE` or \"YOUR ANSWER HERE\", as well as your name and collaborators below:"
   ]
  },
  {
   "cell_type": "code",
   "execution_count": null,
   "metadata": {},
   "outputs": [],
   "source": [
    "NAME = \"Adaobi Amanna\"\n",
    "COLLABORATORS = \"\""
   ]
  },
  {
   "cell_type": "markdown",
   "metadata": {},
   "source": [
    "---"
   ]
  },
  {
   "cell_type": "markdown",
   "metadata": {
    "deletable": false,
    "editable": false,
    "nbgrader": {
     "checksum": "66e4a5cae0e361c97d6c83e84754f7bb",
     "grade": false,
     "grade_id": "cell-aedfb9351c4dd419",
     "locked": true,
     "schema_version": 1,
     "solution": false
    }
   },
   "source": [
    "# CS110 Pre-class Work - Huffman codes\n",
    "\n",
    "In this Pre-class work we will apply Huffman's algorithm in file compression. \n",
    "\n",
    "## Question 1 [time estimate: 2 minutes]\n",
    "Below is the utility function for downloading a text file from a URL. "
   ]
  },
  {
   "cell_type": "code",
   "execution_count": 1,
   "metadata": {
    "deletable": false,
    "nbgrader": {
     "checksum": "b4cfc6776ba647ea042e50771b3d8483",
     "grade": false,
     "grade_id": "cell-b84ee6c499c87372",
     "locked": true,
     "schema_version": 1,
     "solution": false
    }
   },
   "outputs": [
    {
     "data": {
      "text/plain": [
       "5465099"
      ]
     },
     "execution_count": 1,
     "metadata": {},
     "output_type": "execute_result"
    }
   ],
   "source": [
    "from urllib.request import urlretrieve\n",
    "import os\n",
    "\n",
    "\n",
    "# Download the file if need be:\n",
    "def download_file(url, filename):\n",
    "    if not os.path.exists(filename + '.txt'):\n",
    "        urlretrieve(url + filename, filename + '.txt')\n",
    "\n",
    "url = \"https://gist.githubusercontent.com/raquelhr/78f66877813825dc344efefdc684a5d6/raw/361a40e4cd22cb6025e1fb2baca3bf7e166b2ec6/\"\n",
    "filename = \"100.txt.utf-8\"\n",
    "\n",
    "download_file(url, filename)\n",
    "filename = filename + '.txt'\n",
    "\n",
    "# to get the file size\n",
    "os.path.getsize(filename)"
   ]
  },
  {
   "cell_type": "markdown",
   "metadata": {
    "deletable": false,
    "editable": false,
    "nbgrader": {
     "checksum": "8a077d16d8c9d48ba47b01467d9fd9c2",
     "grade": false,
     "grade_id": "cell-c2e379e275938e68",
     "locked": true,
     "schema_version": 1,
     "solution": false
    }
   },
   "source": [
    "Your tasks:\n",
    "\n",
    "1. Run the cell so that the file \"100.txt.utf-8\" is downloaded to your local machine. Please allow some time for the code to complete.\n",
    "2. Check that the file \"100.txt.utf-8\" has been downloaded to your computer.\n",
    "3. Open and view the file with your favorite text editor. \n",
    "4. In the cell below, write down the size of the downloaded file (for example, 1.2GB)"
   ]
  },
  {
   "cell_type": "markdown",
   "metadata": {
    "deletable": false,
    "nbgrader": {
     "checksum": "f18750524ace65719b91a60e8d9a43b8",
     "grade": true,
     "grade_id": "cell-b83cd656878410be",
     "locked": false,
     "points": 0,
     "schema_version": 1,
     "solution": true
    }
   },
   "source": [
    "File size = 5465099B ~ 5.5MB"
   ]
  },
  {
   "cell_type": "markdown",
   "metadata": {
    "deletable": false,
    "editable": false,
    "nbgrader": {
     "checksum": "80849f8ac566ae2fe64a35cc8c8e882d",
     "grade": false,
     "grade_id": "cell-5ffca685c11b6b4d",
     "locked": true,
     "schema_version": 1,
     "solution": false
    }
   },
   "source": [
    "## Question 2 [time estimate: 8 minutes]\n",
    "\n",
    "Now, as a bit of an interlude, we will get familiar with the `bitarray` Python library, which is helpful for completing this pre-class work. Go to this [link](https://pypi.org/project/bitarray/) and read the examples in the first three cell of section **Using the module**. Once you complete the reading task, please complete the function `get_bit_array` in the cell below."
   ]
  },
  {
   "cell_type": "code",
   "execution_count": 9,
   "metadata": {
    "deletable": false,
    "nbgrader": {
     "checksum": "ec3c2a880c1c14e2d359fac0dada1c28",
     "grade": false,
     "grade_id": "cell-7ba9ec08bcd38455",
     "locked": false,
     "schema_version": 1,
     "solution": true
    }
   },
   "outputs": [],
   "source": [
    "from bitarray import bitarray\n",
    "\n",
    "class Node(object):\n",
    "    \"\"\"\n",
    "    A node in a binary tree that represents a prefix code.\n",
    "    \n",
    "    Attributes\n",
    "    ----------\n",
    "    freq : float\n",
    "        Frequency of the character\n",
    "    symb : str\n",
    "        A character in the file \n",
    "    parent : a node, optional\n",
    "        Parent of the current node in the tree\n",
    "    lchild : a node, optional\n",
    "        Left child node of the current node in the tree\n",
    "    rchild: a node, optional\n",
    "        Right child node of the current node in the tree\n",
    "\n",
    "    \"\"\"\n",
    "    \n",
    "    def __init__(self, freq, symb, parent = None, lchild = None, rchild = None):\n",
    "        self.freq = freq\n",
    "        self.symb = symb\n",
    "        self.parent = parent\n",
    "        self.lchild = lchild\n",
    "        self.rchild = rchild\n",
    "    \n",
    "    def __lt__(self, other):\n",
    "        \"\"\"\n",
    "        This function allow us push/insert a node into a heap as well as\n",
    "        extract/pop the minimum node from a heap. \n",
    "        \n",
    "        You can brush up your memory on heaps by visiting this link:\n",
    "        https://docs.python.org/3.0/library/heapq.html\n",
    "        \n",
    "        Note\n",
    "        ----\n",
    "        nodeA < nodeB returns True if nodeA.freq < nodeB.freq\n",
    "        \n",
    "        \"\"\"\n",
    "        return self.freq < other.freq\n",
    "    \n",
    "    \n",
    "def get_bitarray(node):\n",
    "    \"\"\"\n",
    "    Given a node in the tree, determines the corresponding codeword for character\n",
    "    node.symb, using the rule in Cormen et al.: the binary codeword for a character \n",
    "    is the simple path from the root to that character, where 0 means “go to the \n",
    "    left child” and 1 means “go to the right child.\n",
    "    \n",
    "    Parameters\n",
    "    ----------\n",
    "    node: a node\n",
    "        A node whose codeword represented by the tree is of interest\n",
    "    \n",
    "    Returns\n",
    "    -------\n",
    "    a : bitarray\n",
    "        A bit array that represents the codeword. \n",
    "        \n",
    "    Example\n",
    "    -------\n",
    "    If the codeword is 01001, then a is bitarray('01001')\n",
    "    \n",
    "    Hint\n",
    "    -------\n",
    "    (1) You will need to initialize ```a = bitarray()``` \n",
    "    (2) You will to store the \"path\" back into ```a```\n",
    "    \"\"\"\n",
    "#     #initialize the bitarray\n",
    "#     a = bitarray()\n",
    "    \n",
    "#     #Using a while loop traverse the loop until we get to the root. \n",
    "#     while node.parent:\n",
    "#         #check the position of the node w.r.t the parent\n",
    "#         if node == node.parent.rchild:\n",
    "#             #given the binary code word,if node is the right child, append 1\n",
    "#             a.append(\"1\")\n",
    "#         else:\n",
    "#             # If node is the left child, append 0\n",
    "#             a.append(\"0\")\n",
    "#         node = node.parent\n",
    "    \n",
    "#     #return the revers of the bitarray since we moved from leaf to root.\n",
    "    \n",
    "#     return a.reverse()\n",
    "\n",
    "#I don't know why this did not work\n",
    "\n",
    "#initialize the array\n",
    "    a = []\n",
    "    \n",
    "    #Using a while loop traverse the loop until we get to the root. \n",
    "    while node.parent:\n",
    "        if node == node.parent.rchild:\n",
    "            #given the binary code word,if node is the right child, append 1\n",
    "            a.append(\"1\")\n",
    "        else:\n",
    "            # If node is the left child, append and equivalence of 0\n",
    "            a.append(\"\")\n",
    "        node = node.parent\n",
    "    #reverse the list since we went from leaf to root    \n",
    "    a = a[::-1]\n",
    "    \n",
    "    #convert to bitarray and return\n",
    "    return bitarray(a)\n",
    "\n"
   ]
  },
  {
   "cell_type": "markdown",
   "metadata": {
    "deletable": false,
    "nbgrader": {
     "checksum": "2fe3268d072490748502ac5657baf039",
     "grade": false,
     "grade_id": "cell-30c0c74327992b26",
     "locked": true,
     "schema_version": 1,
     "solution": false
    }
   },
   "source": [
    "## Question 3 [time estimate: 10 minutes]\n",
    "\n",
    "Complete the following function that builds a Huffman code, making use of `get_bitarray` and the module `heapq`. You should transcribe in Python code from Cormen et al's pseudocode - ```HUFFMAN(C)``` in section 16.3"
   ]
  },
  {
   "cell_type": "code",
   "execution_count": 10,
   "metadata": {
    "deletable": false,
    "nbgrader": {
     "checksum": "ff946fc33af51c13fefcf767c4f91292",
     "grade": false,
     "grade_id": "cell-a99a125161e64aac",
     "locked": false,
     "schema_version": 1,
     "solution": true
    }
   },
   "outputs": [],
   "source": [
    "import heapq\n",
    "def encode(symb2freq):\n",
    "    \"\"\"\n",
    "    Huffman encode the given dict mapping symbols to weights. \n",
    "    Hint: You will need to create a min-heap to complete this task\n",
    "    \n",
    "    Parameters\n",
    "    ----------\n",
    "    symb2freq : dict \n",
    "        A dictionary that maps a symbol/character to the probability frequency \n",
    "        in the text file. \n",
    "    \n",
    "    Returns\n",
    "    -------\n",
    "    out : dict\n",
    "         A dictionary that maps a symbol/charcater to a bitarray that represents the \n",
    "         codeword for that symbol. \n",
    "         \n",
    "    Examples\n",
    "    --------\n",
    "    symb2freq = {'a': .3, 'b':.6, 'c': .1}. This means that symbol 'a' appears with \n",
    "    frequency 30%, symbol 'b' 60%, and symbol 'c' 10%.\n",
    "        \n",
    "    out = {'a': bitarray('01'), 'b': bitarray('11'), 'c': bitarray('101')}.\n",
    "    \n",
    "    \"\"\"\n",
    "    # YOUR CODE HERE\n",
    "    # Initialize a list containing with nodes for each entry\n",
    "    my_heap = [Node(freq, char) for char, freq in symb2freq.items()]\n",
    "    \n",
    "    # Then Heapify the list \n",
    "    heapq.heapify(my_heap)\n",
    "    \n",
    "    # Make a copy of the heap for priority queue \n",
    "    heap_copy = my_heap[:]\n",
    "    \n",
    "    # using a while loop, traverse the heap as long as there are still elements in it\n",
    "    #systematically remove the smallest element.\n",
    "    while len(heap_copy) > 1:\n",
    "        left = heapq.heappop(heap_copy)\n",
    "        right = heapq.heappop(heap_copy)\n",
    "        #initialize a new node based off the last two smallest nodes\n",
    "        new_node = Node(left.freq + right.freq, left.symb + right.symb, lchild = left, rchild = right)\n",
    "        \n",
    "        left.parent = new_node\n",
    "        right.parent = new_node\n",
    "        \n",
    "        heapq.heappush(heap_copy, new_node)\n",
    "\n",
    "    # Initialize the dictionary, and convert all characters in the heap to bitarrays\n",
    "    output = {}\n",
    "    for i in my_heap:\n",
    "        output[i.symb] = get_bitarray(i)\n",
    "    \n",
    "    return output"
   ]
  },
  {
   "cell_type": "markdown",
   "metadata": {
    "deletable": false,
    "editable": false,
    "nbgrader": {
     "checksum": "cfdc434c6f29f0186e0bcadcec736d83",
     "grade": false,
     "grade_id": "cell-fa651be15a7f3559",
     "locked": true,
     "schema_version": 1,
     "solution": false
    }
   },
   "source": [
    "## Question 4 [time estimate: 7 minutes]\n",
    "\n",
    "Below you are given three functions to 1) build a frequency table for a file, 2) compress a file, and 3) decompress a file. Make use of these functions to do the following:\n",
    "\n",
    "1. Create a compressed version of file `100.txt.utf-8.txt` that is named `100.txt.utf-8.txt.huff`.\n",
    "2. Decompress `100.txt.utf-8.txt.huff` to file `100.txt.utf-8.txt.huff.dehuff.txt`. "
   ]
  },
  {
   "cell_type": "code",
   "execution_count": 18,
   "metadata": {
    "deletable": false,
    "nbgrader": {
     "checksum": "f1a7d2cdc3ec444c75a311ce72630ee3",
     "grade": false,
     "grade_id": "cell-7c911f3552280b25",
     "locked": false,
     "schema_version": 1,
     "solution": true
    }
   },
   "outputs": [],
   "source": [
    "from collections import defaultdict \n",
    "import pickle\n",
    "\n",
    "# build a frequency table:\n",
    "def build_freq(filename):\n",
    "    freq = defaultdict(int)\n",
    "    with open(filename, 'rb') as f:\n",
    "        for line in f:\n",
    "            for char in line:\n",
    "                freq[char] += 1\n",
    "    total = float(sum(freq.values()))\n",
    "    return {char: count / total for (char, count) in freq.items()}\n",
    "\n",
    "\n",
    "# Now compress the file:\n",
    "def compress(filename, encoding, compressed_name=None):\n",
    "    if compressed_name is None:\n",
    "        compressed_name = filename + \".huff\"\n",
    "    output = bitarray()\n",
    "    with open(filename, 'rb') as f:\n",
    "        for line in f:\n",
    "            for char in line:\n",
    "                output.extend(encoding[char])\n",
    "    N = len(output)\n",
    "    with open(compressed_name, 'wb') as f:\n",
    "        pickle.dump(N, f)\n",
    "        pickle.dump(encoding, f)\n",
    "        output.tofile(f)\n",
    "\n",
    "\n",
    "# Now decompress the file:\n",
    "def decompress(filename, decompressed_name=None):\n",
    "    if decompressed_name is None:\n",
    "        decompressed_name = filename + \".dehuff.txt\"\n",
    "    with open(filename, 'rb') as f:\n",
    "        N = pickle.load(f)\n",
    "        encoding = pickle.load(f)\n",
    "        bits = bitarray()\n",
    "        bits.fromfile(f)\n",
    "        bits = bits[:N]\n",
    "\n",
    "    # Totally cheating here and using a builtin method:\n",
    "    output = bits.decode(encoding)\n",
    "    with open(decompressed_name, 'wb') as f:\n",
    "        f.write(bytes(output))\n",
    "        \n",
    "        \n",
    "# YOUR CODE HERE\n",
    "file = '100.txt.utf-8.txt'\n",
    "\n",
    "# Encode the file with the encode function \n",
    "encoding_dict = encode(build_freq(file))\n",
    "\n",
    "# compress the file\n",
    "compress(file, encoding_dict, compressed_name = '100.txt.utf-8.txt.huff')\n",
    "#decompress the file\n",
    "decompress('100.txt.utf-8.txt.huff', decompressed_name = '100.txt.utf-8.txt.huff.dehuff.txt')"
   ]
  },
  {
   "cell_type": "markdown",
   "metadata": {},
   "source": [
    "### Get file size for the compressed and decompressed files"
   ]
  },
  {
   "cell_type": "code",
   "execution_count": 19,
   "metadata": {},
   "outputs": [
    {
     "name": "stdout",
     "output_type": "stream",
     "text": [
      "3167592\n",
      "5465099\n"
     ]
    }
   ],
   "source": [
    "#Compressed file\n",
    "compressed_name = '100.txt.utf-8.txt.huff'\n",
    "# to get the file size\n",
    "print(os.path.getsize(compressed_name))\n",
    "\n",
    "decompressed_name = '100.txt.utf-8.txt.huff.dehuff.txt'\n",
    "print(os.path.getsize(decompressed_name))"
   ]
  },
  {
   "cell_type": "markdown",
   "metadata": {
    "deletable": false,
    "editable": false,
    "nbgrader": {
     "checksum": "4df4ea196f6952f4b7e15d7ed2ea9430",
     "grade": false,
     "grade_id": "cell-b564d21e754a0461",
     "locked": true,
     "schema_version": 1,
     "solution": false
    }
   },
   "source": [
    "## Question 5 [time estimate: 3 minutes] \n",
    "\n",
    "Give your answer in the cell below:\n",
    "1. Report the size of the compressed file and the decompressed file in the cell below.\n",
    "2. How does the size of the decompressed file compare to the size of the original file (`100.txt.utf-8.txt`)?\n",
    "3. Visually skim the decompressed file and the original file. Do they appear identical?"
   ]
  },
  {
   "cell_type": "markdown",
   "metadata": {
    "deletable": false,
    "nbgrader": {
     "checksum": "4c171a626010799721ff7c9e3ac9a22a",
     "grade": true,
     "grade_id": "cell-b5988d6026475a88",
     "locked": false,
     "points": 0,
     "schema_version": 1,
     "solution": true
    }
   },
   "source": [
    "1. The sizes of the Compressed file: 3.17 mb ; Decompressed file: 5.47 mb\n",
    "2. The size of the Decompressed file is the same size as the original- 5.47 mb.\n",
    "3. Yes"
   ]
  },
  {
   "cell_type": "markdown",
   "metadata": {
    "deletable": false,
    "nbgrader": {
     "checksum": "499835f219f42c8fb92f0ac6136707a4",
     "grade": false,
     "grade_id": "cell-b9ea500bebcac4dd",
     "locked": true,
     "schema_version": 1,
     "solution": false
    }
   },
   "source": [
    "## [Optional] Question 6 [time estimate: 10 minutes]\n",
    "\n",
    "Compute and print out:\n",
    "1. The percentage of 1’s in the compressed version\n",
    "2. The percentage of 1’s in the uncompressed version"
   ]
  },
  {
   "cell_type": "code",
   "execution_count": null,
   "metadata": {
    "deletable": false,
    "nbgrader": {
     "checksum": "e1287afdf6be4303ec9293e1894b9643",
     "grade": true,
     "grade_id": "cell-a1f9f58458cf80d5",
     "locked": false,
     "points": 0,
     "schema_version": 1,
     "solution": true
    }
   },
   "outputs": [],
   "source": [
    "# YOUR CODE HERE\n",
    "raise NotImplementedError()"
   ]
  }
 ],
 "metadata": {
  "kernelspec": {
   "display_name": "Python 3",
   "language": "python",
   "name": "python3"
  },
  "language_info": {
   "codemirror_mode": {
    "name": "ipython",
    "version": 3
   },
   "file_extension": ".py",
   "mimetype": "text/x-python",
   "name": "python",
   "nbconvert_exporter": "python",
   "pygments_lexer": "ipython3",
   "version": "3.8.3"
  }
 },
 "nbformat": 4,
 "nbformat_minor": 2
}
