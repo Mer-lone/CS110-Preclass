{
 "cells": [
  {
   "cell_type": "markdown",
   "metadata": {},
   "source": [
    "Before you turn this problem in, make sure everything runs as expected. First, **restart the kernel** (in the menubar, select Kernel$\\rightarrow$Restart) and then **run all cells** (in the menubar, select Cell$\\rightarrow$Run All).\n",
    "\n",
    "Note that this Pre-class Work is estimated to take **35 minutes**.\n",
    "\n",
    "Make sure you fill in any place that says `YOUR CODE HERE` or \"YOUR ANSWER HERE\", as well as your name and collaborators below:"
   ]
  },
  {
   "cell_type": "code",
   "execution_count": 1,
   "metadata": {},
   "outputs": [],
   "source": [
    "NAME = \"Adaobi Amanna\"\n",
    "COLLABORATORS = \"\""
   ]
  },
  {
   "cell_type": "markdown",
   "metadata": {},
   "source": [
    "---"
   ]
  },
  {
   "cell_type": "markdown",
   "metadata": {
    "deletable": false,
    "editable": false,
    "nbgrader": {
     "checksum": "4d981108d5cc409ac26cfbe6fa53cb1f",
     "grade": false,
     "grade_id": "cell-5b237cc13279b029",
     "locked": true,
     "schema_version": 1,
     "solution": false
    }
   },
   "source": [
    "# CS110 Pre-class Work - Hash tables and hash functions"
   ]
  },
  {
   "cell_type": "markdown",
   "metadata": {
    "deletable": false,
    "nbgrader": {
     "checksum": "cdb562114e50f9ce1c97be3536b59efa",
     "grade": false,
     "grade_id": "cell-b27891b3ff16f730",
     "locked": true,
     "schema_version": 1,
     "solution": false
    }
   },
   "source": [
    "## Part A. Social Security [time estimate: 3 minutes]\n",
    "\n",
    "Could we use a direct address table to store a country's entire set of social security numbers (aka id numbers)? Why or why not?\n"
   ]
  },
  {
   "cell_type": "markdown",
   "metadata": {
    "deletable": false,
    "nbgrader": {
     "checksum": "7b193e66cbea5bd9dac131a3d6adfefa",
     "grade": true,
     "grade_id": "cell-e751647d9af78c11",
     "locked": false,
     "points": 0,
     "schema_version": 1,
     "solution": true
    }
   },
   "source": [
    "I would go with yes here, because of two reasons:\n",
    "1. SSN are unique to individuals and are not reassinged at death.\n",
    "I found that The Social Security Administration does not reuse Social Security numbers. It has issued over 450 million since the start of the program, and at a use rate of about 5.5 million per year. \n",
    "2. The numbers are large and would continue to grow since it it never reused.\n",
    "\n",
    "Given SSN uniqueness, it can serve as keys for each individual. A direct address table works best when we know that keys are large enough, so we won't have empty spaces. With our knowledge of the huge continuous rate at which SSN grows, we can say that it is large enough for a direct address table."
   ]
  },
  {
   "cell_type": "markdown",
   "metadata": {
    "deletable": false,
    "editable": false,
    "nbgrader": {
     "checksum": "35f74a7f882cabb36df7ee2c43ee51db",
     "grade": false,
     "grade_id": "cell-cba2028918eea1fd",
     "locked": true,
     "schema_version": 1,
     "solution": false
    }
   },
   "source": [
    "## Part B. Chained Hash-table [time estimate: 32 minutes]\n",
    "\n",
    "### Question 1 [time estimate: 7 minutes]\n",
    "\n",
    "Using the code in the cell below, complete the missing sections of code. You should copy and paste the code in an additional cell and fill in the code there."
   ]
  },
  {
   "cell_type": "code",
   "execution_count": null,
   "metadata": {
    "deletable": false,
    "editable": false,
    "nbgrader": {
     "checksum": "ffc1d9c145de9e5c52f96dfdc8a66fe2",
     "grade": false,
     "grade_id": "cell-9e41d88b035338f4",
     "locked": true,
     "schema_version": 1,
     "solution": false
    }
   },
   "outputs": [],
   "source": [
    "import random\n",
    "import string\n",
    "\n",
    "\n",
    "def randomword(length):\n",
    "    return ''.join(random.choice(string.ascii_lowercase) for i in range(length))\n",
    "\n",
    "\n",
    "def empty_hash_table(N):\n",
    "    return [[] for n in range(N)]\n",
    "\n",
    "\n",
    "def add_to_hash_table(hash_table, item, hash_function):\n",
    "    N = len(hash_table)\n",
    "    # YOUR CODE HERE\n",
    "    return hash_table\n",
    "\n",
    "\n",
    "def contains(hash_table, item, hash_function):\n",
    "    N = len(hash_table)\n",
    "    # YOUR CODE HERE\n",
    "    # return true if the item has already been stored in the hash_table\n",
    "\n",
    "\n",
    "def remove(hash_table, item, hash_function):\n",
    "    if not contains(hash_table, item, hash_function):\n",
    "        raise ValueError()\n",
    "    # YOUR CODE HERE\n",
    "    return hash_table\n",
    "\n",
    "\n",
    "# Hash Functions\n",
    "def hash_str1(string):\n",
    "    ans = 0\n",
    "    for chr in string:\n",
    "        ans += ord(chr)\n",
    "    return ans\n",
    "\n",
    "def hash_str2(string):\n",
    "    ans=int(ord(string[0]))\n",
    "    for ix in range(1, len(string)):\n",
    "        ans = ans ^ ord(string[ix]) \n",
    "    return int(bin(ans).split('b')[1])\n",
    "\n",
    "def hash_str3(string):\n",
    "    ans = 0\n",
    "    for chr in string:\n",
    "        ans = ans * 128 + ord(chr)\n",
    "    return ans\n",
    "\n",
    "def hash_str4(string):\n",
    "    random.seed(ord(string[0]))\n",
    "    return random.getrandbits(32)"
   ]
  },
  {
   "cell_type": "code",
   "execution_count": 2,
   "metadata": {
    "deletable": false,
    "nbgrader": {
     "checksum": "b39c1af2de8a4581d16a2d630fcaac74",
     "grade": true,
     "grade_id": "cell-1b6cc6df105c101f",
     "locked": false,
     "points": 0,
     "schema_version": 1,
     "solution": true
    }
   },
   "outputs": [],
   "source": [
    "import random\n",
    "import string\n",
    "\n",
    "\n",
    "def randomword(length):\n",
    "    return ''.join(random.choice(string.ascii_lowercase) for i in range(length))\n",
    "\n",
    "\n",
    "def empty_hash_table(N):\n",
    "    return [[] for n in range(N)]\n",
    "\n",
    "\n",
    "def add_to_hash_table(hash_table, item, hash_function):\n",
    "    N = len(hash_table)\n",
    "    ele = hash_idx(hash_function,item,N)\n",
    "    hash_table[ele].append(item)\n",
    "    return hash_table\n",
    "\n",
    "\n",
    "def contains(hash_table, item, hash_function):\n",
    "    N = len(hash_table)\n",
    "    ele = hash_idx(hash_function,item,N)\n",
    "    for i in range(len(hash_table[ele])):\n",
    "        if hash_table[ele] == item:\n",
    "            return True \n",
    "    return False\n",
    "    # return true if the item has already been stored in the hash_table\n",
    "\n",
    "\n",
    "def remove(hash_table, item, hash_function):\n",
    "    if not contains(hash_table, item, hash_function):\n",
    "        raise ValueError()\n",
    "    # YOUR CODE HERE\n",
    "    ele = hash_idx(hash_function,item,N)\n",
    "    del(hash_table[ele])\n",
    "    return hash_table\n",
    "\n",
    "\n",
    "# Hash Functions\n",
    "def hash_str1(string):\n",
    "    ans = 0\n",
    "    for chr in string:\n",
    "        ans += ord(chr)\n",
    "    return ans\n",
    "\n",
    "def hash_str2(string):\n",
    "    ans=int(ord(string[0]))\n",
    "    for ix in range(1, len(string)):\n",
    "        ans = ans ^ ord(string[ix]) \n",
    "    return int(bin(ans).split('b')[1])\n",
    "\n",
    "def hash_str3(string):\n",
    "    ans = 0\n",
    "    for chr in string:\n",
    "        ans = ans * 128 + ord(chr)\n",
    "    return ans\n",
    "\n",
    "def hash_str4(string):\n",
    "    random.seed(ord(string[0]))\n",
    "    return random.getrandbits(32)\n",
    "\n",
    "def hash_idx(hash_function,item,N):\n",
    "    \"\"\"\n",
    "    This function takes an item and generates and idex for it.\n",
    "\n",
    "    Input Parameters\n",
    "    ----------\n",
    "    hash_functions : a function\n",
    "    item: a string\n",
    "    N: the number of slots\n",
    "    \n",
    "    Returns\n",
    "    -------\n",
    "    index: number\n",
    "        \n",
    "    \"\"\"\n",
    "    \n",
    "    str_to_number = hash_function(item) \n",
    "    try:\n",
    "        ele = str_to_number % N \n",
    "    except TypeError:\n",
    "        ele = int(str_to_number.split('b')[1]) % N\n",
    "    return ele"
   ]
  },
  {
   "cell_type": "markdown",
   "metadata": {
    "deletable": false,
    "editable": false,
    "nbgrader": {
     "checksum": "d323c68243f6d1fe79cbf5ad01ee85ae",
     "grade": false,
     "grade_id": "cell-66fb150dd2e509a7",
     "locked": true,
     "schema_version": 1,
     "solution": false
    }
   },
   "source": [
    "### Question 2 [time estimate: 2 minutes]\n",
    "\n",
    "Using the code, create 100,000 words of 10 characters each."
   ]
  },
  {
   "cell_type": "code",
   "execution_count": 3,
   "metadata": {
    "deletable": false,
    "nbgrader": {
     "checksum": "b9d2f1faad23eecd6f3691968bb4e455",
     "grade": true,
     "grade_id": "cell-234b1e83c871ddc7",
     "locked": false,
     "points": 0,
     "schema_version": 1,
     "solution": true
    }
   },
   "outputs": [],
   "source": [
    "# YOUR CODE HERE\n",
    "word = []\n",
    "total_words = 100000\n",
    "for i in range (total_words):\n",
    "    word.append(randomword(10))"
   ]
  },
  {
   "cell_type": "markdown",
   "metadata": {
    "deletable": false,
    "editable": false,
    "nbgrader": {
     "checksum": "190e7fdc00fc311f5ff32a390fff1ca4",
     "grade": false,
     "grade_id": "cell-2fbadca52cec7230",
     "locked": true,
     "schema_version": 1,
     "solution": false
    }
   },
   "source": [
    "### Question 3 [time estimate: 2 minutes]\n",
    "\n",
    "Create four chained hash-tables with 5000 slots."
   ]
  },
  {
   "cell_type": "code",
   "execution_count": 4,
   "metadata": {
    "deletable": false,
    "nbgrader": {
     "checksum": "0d1473300ae336ceb57d11687ab3ec0a",
     "grade": true,
     "grade_id": "cell-2dabefc41493ec16",
     "locked": false,
     "points": 0,
     "schema_version": 1,
     "solution": true
    }
   },
   "outputs": [],
   "source": [
    "# YOUR CODE HERE\n",
    "hash_1 = empty_hash_table(5000)\n",
    "hash_2 = empty_hash_table(5000)\n",
    "hash_3 = empty_hash_table(5000)\n",
    "hash_4 = empty_hash_table(5000)"
   ]
  },
  {
   "cell_type": "markdown",
   "metadata": {
    "deletable": false,
    "editable": false,
    "nbgrader": {
     "checksum": "c3d147917ae237a6dc75eddab48dbaa6",
     "grade": false,
     "grade_id": "cell-cc2e6d00330e691e",
     "locked": true,
     "schema_version": 1,
     "solution": false
    }
   },
   "source": [
    "### Question 4 [time estimate: 2 minutes]\n",
    "\n",
    "Store all the words in each chained hash table using each of the different hash functions."
   ]
  },
  {
   "cell_type": "code",
   "execution_count": 6,
   "metadata": {
    "deletable": false,
    "nbgrader": {
     "checksum": "af209dceb17bf5f8d9fadf0808855f79",
     "grade": true,
     "grade_id": "cell-8a08ade8d45590a7",
     "locked": false,
     "points": 0,
     "schema_version": 1,
     "solution": true
    }
   },
   "outputs": [],
   "source": [
    "# YOUR CODE HERE\n",
    "for i in word:\n",
    "    hash_1 = add_to_hash_table(hash_1, i, hash_str1)\n",
    "    hash_2 = add_to_hash_table(hash_2, i, hash_str2)\n",
    "    hash_3 = add_to_hash_table(hash_3, i, hash_str3)\n",
    "    hash_4 = add_to_hash_table(hash_4, i, hash_str4)"
   ]
  },
  {
   "cell_type": "markdown",
   "metadata": {
    "deletable": false,
    "editable": false,
    "nbgrader": {
     "checksum": "858437d142a66b825fb0bebdb1c4d9fe",
     "grade": false,
     "grade_id": "cell-da2c8b42618fbde4",
     "locked": true,
     "schema_version": 1,
     "solution": false
    }
   },
   "source": [
    "### Question 5 [time estimate: 4 minutes]\n",
    "\n",
    "Measure the number of collisions for each hash function."
   ]
  },
  {
   "cell_type": "code",
   "execution_count": 8,
   "metadata": {
    "deletable": false,
    "nbgrader": {
     "checksum": "156f57bc1c6c1a3e10ca1804aa205099",
     "grade": true,
     "grade_id": "cell-a968f9e14a0416c4",
     "locked": false,
     "points": 0,
     "schema_version": 1,
     "solution": true
    }
   },
   "outputs": [
    {
     "name": "stdout",
     "output_type": "stream",
     "text": [
      "Collisions for hash_1: 99823\n",
      "Collisions for hash_2: 99984\n",
      "Collisions for hash_3: 95000\n",
      "Collisions for hash_4: 99974\n"
     ]
    }
   ],
   "source": [
    "# YOUR CODE HERE\n",
    "#initialize counter for each one\n",
    "count_1 = 0\n",
    "count_2 = 0\n",
    "count_3 = 0\n",
    "count_4 = 0\n",
    "\n",
    "#calculate the number of collision for each table\n",
    "#table 1\n",
    "for i in range(len(hash_1)):\n",
    "    if len(hash_1[i])>1:\n",
    "        count_1+=len(hash_1[i])-1\n",
    "        \n",
    "        #table 2\n",
    "for i in range(len(hash_2)):\n",
    "    if len(hash_2[i])>1:\n",
    "        count_2+=len(hash_2[i])-1\n",
    "        \n",
    "        #table 3\n",
    "for i in range(len(hash_3)):\n",
    "    if len(hash_3[i])>1:\n",
    "        count_3+=len(hash_3[i])-1\n",
    "        \n",
    "        #table 4\n",
    "for i in range(len(hash_4)):\n",
    "    if len(hash_4[i])>1:\n",
    "        count_4+=len(hash_4[i])-1\n",
    "print('Collisions for hash_1:', count_1)\n",
    "print('Collisions for hash_2:', count_2)\n",
    "print('Collisions for hash_3:', count_3)\n",
    "print('Collisions for hash_4:', count_4)\n",
    "\n"
   ]
  },
  {
   "cell_type": "markdown",
   "metadata": {
    "deletable": false,
    "editable": false,
    "nbgrader": {
     "checksum": "ef47cabb10897284ca375490003e6b3d",
     "grade": false,
     "grade_id": "cell-435ba1cfb2d80447",
     "locked": true,
     "schema_version": 1,
     "solution": false
    }
   },
   "source": [
    "### Question 6 [time estimate: 5 minutes]\n",
    "\n",
    "For each of the hash functions, how many elements are in a bucket on average (if it is not empty)?\n"
   ]
  },
  {
   "cell_type": "code",
   "execution_count": 11,
   "metadata": {
    "deletable": false,
    "nbgrader": {
     "checksum": "9f77d346c6e5ffbfb92ac0707c3c1d72",
     "grade": true,
     "grade_id": "cell-b4052afa2ee7c702",
     "locked": false,
     "points": 0,
     "schema_version": 1,
     "solution": true
    }
   },
   "outputs": [
    {
     "name": "stdout",
     "output_type": "stream",
     "text": [
      "Average elements for hash_1: 564.9717514124294\n",
      "Average elements for hash_2: 6250.0\n",
      "Average elements for hash_3: 20.0\n",
      "Average elements for hash_4: 3846.153846153846\n"
     ]
    }
   ],
   "source": [
    "# YOUR CODE HERE\n",
    "#initialize a counter\n",
    "count_1 = 0\n",
    "count_2 = 0\n",
    "count_3 = 0\n",
    "count_4 = 0\n",
    "\n",
    "#Increament the counter by 1 whenever a slot is >0\n",
    "for i in range(5000):\n",
    "    if len(hash_1[i]) > 0:\n",
    "        count_1 += 1\n",
    "    if len(hash_2[i]) > 0:\n",
    "        count_2 += 1\n",
    "    if len(hash_3[i]) > 0:\n",
    "        count_3 += 1\n",
    "    if len(hash_4[i]) > 0:\n",
    "        count_4 += 1\n",
    "\n",
    "print('Average elements for hash_1:', total_words/count_1)\n",
    "print('Average elements for hash_2:', total_words/count_2)\n",
    "print('Average elements for hash_3:', total_words/count_3)\n",
    "print('Average elements for hash_4:', total_words/count_4)"
   ]
  },
  {
   "cell_type": "markdown",
   "metadata": {
    "deletable": false,
    "editable": false,
    "nbgrader": {
     "checksum": "aaeb9bd55b7a86f8bc8079cbb7f8bca4",
     "grade": false,
     "grade_id": "cell-b86aef4dd22c236c",
     "locked": true,
     "schema_version": 1,
     "solution": false
    }
   },
   "source": [
    "### Question 7 [time estimate: 5 minutes]\n",
    "\n",
    "Time how long it takes to find elements that are in each hash table.\n"
   ]
  },
  {
   "cell_type": "code",
   "execution_count": 18,
   "metadata": {
    "deletable": false,
    "nbgrader": {
     "checksum": "23927c46b8067f49ef10e9b4183f7680",
     "grade": true,
     "grade_id": "cell-0605f7dec7128414",
     "locked": false,
     "points": 0,
     "schema_version": 1,
     "solution": true
    }
   },
   "outputs": [
    {
     "name": "stdout",
     "output_type": "stream",
     "text": [
      "hash_str1: 0.0 s/word\n",
      "hash_str2: 1.9943714141845704e-08 s/word\n",
      "hash_str3: 0.0 s/word\n",
      "hash_str4: 9.968280792236328e-09 s/word\n"
     ]
    }
   ],
   "source": [
    "# YOUR CODE HERE\n",
    "import time\n",
    "\n",
    "count_1 = 0\n",
    "count_2 = 0\n",
    "count_3 = 0\n",
    "count_4 = 0\n",
    "\n",
    "for word in word:\n",
    "    start = time.time()\n",
    "    contains(hash_1, word, hash_str1)\n",
    "    count_1 += time.time() - start\n",
    "    \n",
    "    start = time.time()\n",
    "    contains(hash_2, word, hash_str2)\n",
    "    count_2 += time.time() - start\n",
    "    \n",
    "    start = time.time()\n",
    "    contains(hash_3, word, hash_str3)\n",
    "    count_3 += time.time() - start\n",
    "    \n",
    "    start = time.time()\n",
    "    contains(hash_4, word, hash_str4)\n",
    "    count_4 += time.time() - start\n",
    "\n",
    "print('hash_1:', count_1/total_words, 's/word')\n",
    "print('hash_2:', count_2/total_words, 's/word')\n",
    "print('hash_3:', count_3/total_words, 's/word')\n",
    "print('hash_4:', count_4/total_words, 's/word')"
   ]
  },
  {
   "cell_type": "markdown",
   "metadata": {
    "deletable": false,
    "editable": false,
    "nbgrader": {
     "checksum": "b051093ca9a2faf1658679380bf29033",
     "grade": false,
     "grade_id": "cell-75db2c2e62cec090",
     "locked": true,
     "schema_version": 1,
     "solution": false
    }
   },
   "source": [
    "### Question 8 [time estimate: 5 minutes]\n",
    "\n",
    "For each hash table, time how long it takes to find 10,000 elements that have not been stored."
   ]
  },
  {
   "cell_type": "code",
   "execution_count": 22,
   "metadata": {
    "deletable": false,
    "nbgrader": {
     "checksum": "99b2fa8c88000c2143cb00fac1f6aa5f",
     "grade": true,
     "grade_id": "cell-b846b45e1b98ae59",
     "locked": false,
     "points": 0,
     "schema_version": 1,
     "solution": true
    }
   },
   "outputs": [
    {
     "name": "stdout",
     "output_type": "stream",
     "text": [
      "hash_1: 1.5760993957519531e-06 s/word\n",
      "hash_2: 0.00015207126379013062 s/word\n",
      "hash_3: 2.1115779876708985e-06 s/word\n",
      "hash_4: 9.463679313659668e-05 s/word\n"
     ]
    }
   ],
   "source": [
    "# YOUR CODE HERE\n",
    "new_words = []\n",
    "total_words2 = 10000\n",
    "for i in range (total_words2):\n",
    "    new_words.append(randomword(11))\n",
    "\n",
    "count_1 = 0\n",
    "count_2 = 0\n",
    "count_3 = 0\n",
    "count_4 = 0\n",
    "\n",
    "for word in new_words:\n",
    "    start = time.time()\n",
    "    contains(hash_1, word, hash_str1)\n",
    "    count_1 += time.time() - start\n",
    "    \n",
    "    start = time.time()\n",
    "    contains(hash_2, word, hash_str2)\n",
    "    count_2 += time.time() - start\n",
    "    \n",
    "    start = time.time()\n",
    "    contains(hash_3, word, hash_str3)\n",
    "    count_3 += time.time() - start\n",
    "    \n",
    "    start = time.time()\n",
    "    contains(hash_4, word, hash_str4)\n",
    "    count_4 += time.time() - start\n",
    "\n",
    "print('hash_1:', count_1/total_words, 's/word')\n",
    "print('hash_2:', count_2/total_words, 's/word')\n",
    "print('hash_3:', count_3/total_words, 's/word')\n",
    "print('hash_4:', count_4/total_words, 's/word')"
   ]
  },
  {
   "cell_type": "code",
   "execution_count": null,
   "metadata": {},
   "outputs": [],
   "source": []
  }
 ],
 "metadata": {
  "kernelspec": {
   "display_name": "Python 3",
   "language": "python",
   "name": "python3"
  },
  "language_info": {
   "codemirror_mode": {
    "name": "ipython",
    "version": 3
   },
   "file_extension": ".py",
   "mimetype": "text/x-python",
   "name": "python",
   "nbconvert_exporter": "python",
   "pygments_lexer": "ipython3",
   "version": "3.8.3"
  }
 },
 "nbformat": 4,
 "nbformat_minor": 2
}
