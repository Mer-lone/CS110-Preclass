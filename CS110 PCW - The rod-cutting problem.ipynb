{
 "cells": [
  {
   "cell_type": "markdown",
   "metadata": {},
   "source": [
    "Before you turn this problem in, make sure everything runs as expected. First, **restart the kernel** (in the menubar, select Kernel$\\rightarrow$Restart) and then **run all cells** (in the menubar, select Cell$\\rightarrow$Run All).\n",
    "\n",
    "Note that this Pre-class Work is estimated to take **35 minutes**.\n",
    "\n",
    "Make sure you fill in any place that says `YOUR CODE HERE` or \"YOUR ANSWER HERE\", as well as your name and collaborators below:"
   ]
  },
  {
   "cell_type": "code",
   "execution_count": null,
   "metadata": {},
   "outputs": [],
   "source": [
    "NAME = \"Adaobi Amanna\"\n",
    "COLLABORATORS = \"\""
   ]
  },
  {
   "cell_type": "markdown",
   "metadata": {},
   "source": [
    "---"
   ]
  },
  {
   "cell_type": "markdown",
   "metadata": {
    "deletable": false,
    "editable": false,
    "nbgrader": {
     "checksum": "21540c1c5e00b9c4f14c9766c63b92ee",
     "grade": false,
     "grade_id": "cell-2258ae9711c0b029",
     "locked": true,
     "schema_version": 1,
     "solution": false
    }
   },
   "source": [
    "# CS110 Pre-class Work - The rod-cutting problem\n",
    "\n",
    "The pre-class work for this session will focus on the rod cutting problem. Recall that the rod cutting problem takes as an input the length $n$ of a rodand, a table of prices $p_i$ for $i = 1,2,... n$, and one needs to determine the maximum revenue $r$ obtainable by cutting up the rod and selling the pieces. \n",
    "\n",
    "## Part A. \n",
    "\n",
    "You will implement in Python two solutions to the rod cutting problem, namely:\n",
    "\n",
    "## Question 1 [time estimate: 5 minutes] \n",
    "A recursive top-down solution to the rod cutting problem. Please complete the cut_rod function below:\n"
   ]
  },
  {
   "cell_type": "code",
   "execution_count": 6,
   "metadata": {
    "deletable": false,
    "nbgrader": {
     "checksum": "7237c900fdd06ab972ae58cfd3037231",
     "grade": false,
     "grade_id": "cell-d85ce9860c9ea1e5",
     "locked": false,
     "schema_version": 1,
     "solution": true
    }
   },
   "outputs": [],
   "source": [
    "def cut_rod(p,n):\n",
    "    \"\"\"\n",
    "    A recursive top-down solution to the rod cutting problem as described in \n",
    "    Cormen et. al. (pp 363) This calculates the maximum revenue that could be \n",
    "    earned by cutting up a rod of length n.\n",
    "    \n",
    "    Parameters\n",
    "    ----------\n",
    "    p : list of floats\n",
    "        The prices of rods of different lengths. p[i] gives the dollars\n",
    "        of revenue the company earns selling a rod of length i+1.\n",
    "    n : int\n",
    "        Length of the rod\n",
    "    \n",
    "    Returns\n",
    "    -------\n",
    "    q : float\n",
    "        The optimal revenue\n",
    "        \n",
    "    \"\"\"\n",
    "    # YOUR CODE HERE\n",
    "    #if there is no rod i.e, length = 0, no revenue\n",
    "    if n==0:\n",
    "        return 0\n",
    "    #set the maximum revenue at the least possible\n",
    "    q = -float('inf')\n",
    "    #loop through the length of the rod and compute q\n",
    "    for i in range(n):\n",
    "        q = max(q,p[i]+cut_rod(p,n-i-1))\n",
    "    return q\n",
    "    #raise NotImplementedError()\n",
    "    "
   ]
  },
  {
   "cell_type": "code",
   "execution_count": 5,
   "metadata": {
    "deletable": false,
    "editable": false,
    "nbgrader": {
     "checksum": "10d4aaa19c12d9b56addd9cca9b13975",
     "grade": true,
     "grade_id": "cell-0288a4047be5088d",
     "locked": true,
     "points": 1,
     "schema_version": 1,
     "solution": false
    }
   },
   "outputs": [],
   "source": [
    "# price list from textbook\n",
    "p = [1,5,8,9,10,17,17,20,24,30] #p[i] gives the price of length i+1\n",
    "\n",
    "#results from textbook\n",
    "r = [0,1,5,8,10,13,17,18,22,25,30]\n",
    "for i in range(len(r)):\n",
    "    assert(cut_rod(p,i)==r[i])"
   ]
  },
  {
   "cell_type": "markdown",
   "metadata": {
    "deletable": false,
    "editable": false,
    "nbgrader": {
     "checksum": "66f4b595bbff340b7c3114c913a755aa",
     "grade": false,
     "grade_id": "cell-cb7764a3a73bcdb7",
     "locked": true,
     "schema_version": 1,
     "solution": false
    }
   },
   "source": [
    "## Question 2 [time estimate: 10 minutes]\n",
    "\n",
    "An optimal rod cutting solution using dynamic programming (see figure [here](https://drive.google.com/open?id=1nu9gETKX4KJCHZDi17fZLQtkDVig81Zk) for inspiration). Please complete the following two functions: \n"
   ]
  },
  {
   "cell_type": "code",
   "execution_count": 17,
   "metadata": {
    "deletable": false,
    "nbgrader": {
     "checksum": "6684945acab69b9f7ed6c202452bc769",
     "grade": false,
     "grade_id": "cell-eb49e8516ebf80aa",
     "locked": false,
     "schema_version": 1,
     "solution": true
    }
   },
   "outputs": [],
   "source": [
    "def extended_bottom_up_cut_rod(p,n):\n",
    "    \"\"\"\n",
    "    Implements a bottom-up dynamic programming approach to the rod cutting problem.\n",
    "    Here, \"extended\" means the function is geared in a way amenable to reconstructing\n",
    "    an optimal solution, on top of the returned optimal value. See Cormen et al.,\n",
    "    p. 269 for the implementation details.\n",
    "    \n",
    "    Parameters\n",
    "    ----------\n",
    "    p : list of floats\n",
    "        The prices of rods of different lengths. p[i] gives the dollars\n",
    "        of revenue the company earns selling a rod of length i+1.\n",
    "    n : int\n",
    "        Length of the rod\n",
    "    \n",
    "    Returns\n",
    "    -------\n",
    "    r : list of floats\n",
    "        The maximum revenues. r[i] gives the maximum revenue for a rod\n",
    "        of length i. As such:\n",
    "        \n",
    "            >>> r[0] = 0\n",
    "            >>> len(r) == n + 1\n",
    "            \n",
    "    s : list of ints\n",
    "        The optimal sizes of the first piece to cut off. Also make sure \n",
    "        that:\n",
    "            \n",
    "            >>> s[0] = 0\n",
    "            >>> len(s) == n + 1\n",
    "            \n",
    "    \"\"\"\n",
    "    # YOUR CODE HERE\n",
    "    #initialize r and s to save the results of the subproblems\n",
    "    r = [0 for i in range(n+1)]\n",
    "    s = [0 for i in range(n+1)]\n",
    "    #loop for the range -n,  and solve each subproblem of size j.\n",
    "    for j in range(1, n+1):\n",
    "        q = -float('inf')\n",
    "        for i in range(j):\n",
    "            if q<p[i]+r[j-i-1]:\n",
    "                q = p[i]+r[j-i-1]\n",
    "                s[j] = i+1\n",
    "        #save the solution for to the subproblem of size j as r[j]\n",
    "        r[j]=\n",
    "        #return r and s\n",
    "    return r,s\n",
    "    \n",
    "    #raise NotImplementedError()"
   ]
  },
  {
   "cell_type": "code",
   "execution_count": 18,
   "metadata": {
    "deletable": false,
    "nbgrader": {
     "checksum": "0721b1c26ef2b06505e7329f286ba386",
     "grade": false,
     "grade_id": "cell-1d52c9519ccb3502",
     "locked": false,
     "schema_version": 1,
     "solution": true
    }
   },
   "outputs": [],
   "source": [
    "def print_cut_rod_solution(p,n):\n",
    "    \"\"\"\n",
    "    Gives a solution to the rod cutting problem of size n. \n",
    "    \n",
    "    Parameters\n",
    "    ----------\n",
    "    p : list of floats\n",
    "        The prices of rods of different lengths. p[i] gives the revenue \n",
    "        (in USD, for example) the company earns selling a rod of length i+1\n",
    "    n : int\n",
    "        Length of the rod\n",
    "    \n",
    "    Returns\n",
    "    -------\n",
    "    sol : a list of ints\n",
    "        Indicates how to cut the rod. Cutting the rod with the lengths\n",
    "        given in sol gives the optimal revenue.\n",
    "        \n",
    "            >>> print_cut_rod_solution(p,0) == []\n",
    "            \n",
    "    \"\"\"\n",
    "    r,s = extended_bottom_up_cut_rod(p,n)\n",
    "    while n>0:\n",
    "        print(s[n])\n",
    "        n -= s[n]"
   ]
  },
  {
   "cell_type": "code",
   "execution_count": 19,
   "metadata": {
    "deletable": false,
    "editable": false,
    "nbgrader": {
     "checksum": "78b3a62a448ff29e2050fdadd39dc70f",
     "grade": true,
     "grade_id": "cell-6575aa2769e0eab1",
     "locked": true,
     "points": 1,
     "schema_version": 1,
     "solution": false
    }
   },
   "outputs": [],
   "source": [
    "# price list from textbook\n",
    "p = [1,5,8,9,10,17,17,20,24,30] #p[i] gives the price of length i+1\n",
    "# Result of R and S from textbook:\n",
    "R = [0,1,5,8,10,13,17,18,22,25,30]\n",
    "S = [0,1,2,3,2,2,6,1,2,3,10]\n",
    "# Test:\n",
    "r, s = extended_bottom_up_cut_rod(p,10)\n",
    "assert(r==R)\n",
    "assert(s==S)"
   ]
  },
  {
   "cell_type": "markdown",
   "metadata": {
    "deletable": false,
    "editable": false,
    "nbgrader": {
     "checksum": "0937ad8ecbd17b5eca4db79a21d117b8",
     "grade": false,
     "grade_id": "cell-0832a56453a9026d",
     "locked": true,
     "schema_version": 1,
     "solution": false
    }
   },
   "source": [
    "## Part B - Experiments\n",
    "\n",
    "## Question 1 [time estimate: 1 minute]\n",
    "\n",
    "Use the function below to generate a list of prices of length n=20 and assign that list to a new variable, `P`. You MUST use this list for questions 2 and 3 below.\n"
   ]
  },
  {
   "cell_type": "code",
   "execution_count": 22,
   "metadata": {},
   "outputs": [
    {
     "name": "stdout",
     "output_type": "stream",
     "text": [
      "[1, 2, 3, 8, 9, 14, 15, 20, 21, 26, 27, 32, 33, 38, 39, 44, 45, 50, 51, 56]\n"
     ]
    }
   ],
   "source": [
    "import numpy as np\n",
    "def generate_price_list(n):\n",
    "    \"\"\"\n",
    "    Generates a price list of length n\n",
    "    \n",
    "    Parameters\n",
    "    ----------\n",
    "    n : int\n",
    "        Length of the list, must be positive\n",
    "    \n",
    "    Returns\n",
    "    -------\n",
    "    p : list\n",
    "        The ordered price list for each rod cut\n",
    "        \n",
    "    \"\"\"\n",
    "    p = [1]\n",
    "    for i in range(1,n):\n",
    "        np.random.seed(0)\n",
    "        p.append(np.random.randint(p[i-1]+1, i*3+1))\n",
    "    return p\n",
    "#A list of prices for n=20\n",
    "print(generate_price_list(20))"
   ]
  },
  {
   "cell_type": "code",
   "execution_count": 24,
   "metadata": {},
   "outputs": [],
   "source": [
    "#Assign list of variable to P\n",
    "P = [1, 2, 3, 8, 9, 14, 15, 20, 21, 26, 27, 32, 33, 38, 39, 44, 45, 50, 51, 56]"
   ]
  },
  {
   "cell_type": "markdown",
   "metadata": {
    "deletable": false,
    "editable": false,
    "nbgrader": {
     "checksum": "deeb7b0872934debc2d63c1647b5ac06",
     "grade": false,
     "grade_id": "cell-c7fdedff7b334b75",
     "locked": true,
     "schema_version": 1,
     "solution": false
    }
   },
   "source": [
    "## Question 2 [time estimate: 5 minutes]\n",
    "\n",
    "Time (using the time library) the implementation of `cut_rod` for different rod lengths for values of up to $n=20.$ Present your results in a plot. \n"
   ]
  },
  {
   "cell_type": "code",
   "execution_count": 33,
   "metadata": {
    "deletable": false,
    "nbgrader": {
     "checksum": "99c151824efdb32faba7a3f771d1b9f6",
     "grade": true,
     "grade_id": "cell-e094e913d8bc139f",
     "locked": false,
     "points": 0,
     "schema_version": 1,
     "solution": true
    }
   },
   "outputs": [
    {
     "data": {
      "image/png": "[encoded data removed]",
      "text/plain": [
       "<Figure size 432x288 with 1 Axes>"
      ]
     },
     "metadata": {
      "needs_background": "light"
     },
     "output_type": "display_data"
    }
   ],
   "source": [
    "#import the necessary libraries\n",
    "import time\n",
    "import matplotlib.pyplot as plt\n",
    "\n",
    "#set number of iterations\n",
    "itera = 20\n",
    "\n",
    "#initialize an empty list to hold the run time for different rod length\n",
    "run_time = []\n",
    "\n",
    "#loop through length of 20 (inclusive)\n",
    "for n in range(21):\n",
    "    tot_time = 0\n",
    "    #this calculates the average runtime for a given number of iterations\n",
    "    for i in range(itera):\n",
    "        start = time.time()\n",
    "        #implement the cut_rod function defined above\n",
    "        cut_rod(P,n)\n",
    "        #note the time taken for the run\n",
    "        tot_time += time.time()-start\n",
    "    #append the average runtime (total time/num of iterations) to the empty list holder of time    \n",
    "    run_time.append(tot_time/itera)\n",
    "\n",
    "#plot the time/rod_length graph\n",
    "plt.title('Time variance with Rod Length with cut_rod')\n",
    "plt.xlabel('Rod length(Inch)')\n",
    "plt.ylabel(\"Time (s)\")\n",
    "plt.plot([n for n in range(21)],run_time)\n",
    "plt.show()"
   ]
  },
  {
   "cell_type": "markdown",
   "metadata": {
    "deletable": false,
    "editable": false,
    "nbgrader": {
     "checksum": "b8fa06392ba05e21f83f34e1bd84c0e4",
     "grade": false,
     "grade_id": "cell-8076e5401f46000c",
     "locked": true,
     "schema_version": 1,
     "solution": false
    }
   },
   "source": [
    "## Question 3 [time estimate: 2 minutes]\n",
    "\n",
    "Time (using the time library) the implementation of `extended_bottom_up_cut_rod` for different rod lengths for values of up to $n=20$. Add the curve corresponding to this algorithm to the previous plot."
   ]
  },
  {
   "cell_type": "code",
   "execution_count": 29,
   "metadata": {
    "deletable": false,
    "nbgrader": {
     "checksum": "a06be2cc09d0a0b5fa89b8d110ec18a7",
     "grade": true,
     "grade_id": "cell-210aa3d5a2743bd8",
     "locked": false,
     "points": 0,
     "schema_version": 1,
     "solution": true
    }
   },
   "outputs": [
    {
     "data": {
      "image/png": "[encoded data removed]",
      "text/plain": [
       "<Figure size 432x288 with 1 Axes>"
      ]
     },
     "metadata": {
      "needs_background": "light"
     },
     "output_type": "display_data"
    }
   ],
   "source": [
    "#import the necessary libraries\n",
    "import time\n",
    "import matplotlib.pyplot as plt\n",
    "\n",
    "#set number of iterations\n",
    "itera = 20\n",
    "\n",
    "#initialize an empty list to hold the run time for different rod length\n",
    "run_time = []\n",
    "\n",
    "#loop through length of 20 (inclusive)\n",
    "for n in range(21):\n",
    "    tot_time = 0\n",
    "    #this calculates the average runtime for a given number of iterations\n",
    "    for i in range(itera):\n",
    "        start = time.time()\n",
    "        #implement the cut_rod function defined above\n",
    "        extended_bottom_up_cut_rod(P,n)\n",
    "        #note the time taken for the run\n",
    "        tot_time += time.time()-start\n",
    "    #append the average runtime (total time/num of iterations) to the empty list holder of time    \n",
    "    run_time.append(tot_time/itera)\n",
    "\n",
    "#plot the time/rod_length graph\n",
    "plt.title('Time variance with Rod Length with extended_bottom_up)')\n",
    "plt.xlabel('Rod length(Inch)')\n",
    "plt.ylabel(\"Time (s)\")\n",
    "plt.plot([n for n in range(21)],run_time)\n",
    "plt.show()"
   ]
  },
  {
   "cell_type": "markdown",
   "metadata": {
    "deletable": false,
    "editable": false,
    "nbgrader": {
     "checksum": "1c820ccd68543bac236215ff32626ae1",
     "grade": false,
     "grade_id": "cell-5aa5079c4bcac376",
     "locked": true,
     "schema_version": 1,
     "solution": false
    }
   },
   "source": [
    "## Question 4 [time estimate: 2 minutes]\n",
    "\n",
    "Contrast both curves. What can you conclude?"
   ]
  },
  {
   "cell_type": "markdown",
   "metadata": {
    "deletable": false,
    "nbgrader": {
     "checksum": "921656651f11cce29dfe7bf75650d129",
     "grade": true,
     "grade_id": "cell-0e62cc5b19840488",
     "locked": false,
     "points": 0,
     "schema_version": 1,
     "solution": true
    }
   },
   "source": [
    "The curves does not really say much about the speed of the operation, the first one shows an exponential growth with same time for length 1 up to length 15 then scales really quickly beyong 15. The second graph is a bit funky shaped, however, the biggest contrast between the two is seen at the axis, ( I almost missed this). The second one is much faster and ran in microseconds while the first one runs in miliseconds. The curves alone might not give you the answer as naively looking at them places plot 1 above plot 2. The time axes highlights the time superiority of lot 2."
   ]
  },
  {
   "cell_type": "markdown",
   "metadata": {
    "deletable": false,
    "editable": false,
    "nbgrader": {
     "checksum": "a69d913354531fef3bd30538d2f77e96",
     "grade": false,
     "grade_id": "cell-15e017ea29c2ae87",
     "locked": true,
     "schema_version": 1,
     "solution": false
    }
   },
   "source": [
    "## Part C - After completing your experiments above, answer the following questions:\n",
    "\n",
    "## Question 1 [time estimate: 5 minutes]\n",
    "Estimate how big $n$ has to be before the non-dynamic-programming version will take a million years to finish. Call this value N."
   ]
  },
  {
   "cell_type": "markdown",
   "metadata": {
    "deletable": false,
    "nbgrader": {
     "checksum": "ee93061dcb5a4ab6fba26904d7230956",
     "grade": true,
     "grade_id": "cell-a11f4fd6a03e2cf5",
     "locked": false,
     "points": 0,
     "schema_version": 1,
     "solution": true
    }
   },
   "source": [
    "My estimate will come from the time complexity of the non-dynamic algorithm. From our code above, we see that the time complexity of Cut_rod is O(2^N).\n",
    "T(N) = 2^N\n",
    "we are looking for T = 1 million years = 3.1556952E+16seconds\n",
    "from the relationship between logrithm and power\n",
    "b^y =x, Logb(x) = y\n",
    "2^N = 3.1556952E+16, log2(3.1556952E+16) = N\n",
    "N = 54.8 ~ 55. This scales up pretty intensely"
   ]
  },
  {
   "cell_type": "markdown",
   "metadata": {
    "deletable": false,
    "editable": false,
    "nbgrader": {
     "checksum": "2a89a2ec215e318b3c6f14141437f812",
     "grade": false,
     "grade_id": "cell-53a067a7b6a21694",
     "locked": true,
     "schema_version": 1,
     "solution": false
    }
   },
   "source": [
    "## Question 2 [time estimate: 5 minutes]\n",
    "Estimate (or time) how long it takes to evaluate `extended_bottom_up_cut_rod(p,N)`, where `N` is the value you got from the previous question. "
   ]
  },
  {
   "cell_type": "markdown",
   "metadata": {
    "deletable": false,
    "nbgrader": {
     "checksum": "45ccf902eb5847cbae75c4394b6d7cb7",
     "grade": true,
     "grade_id": "cell-89ed2dd6f3310c96",
     "locked": false,
     "points": 0,
     "schema_version": 1,
     "solution": true
    }
   },
   "source": [
    "## Before submission, merge this two"
   ]
  },
  {
   "cell_type": "code",
   "execution_count": 38,
   "metadata": {},
   "outputs": [
    {
     "name": "stdout",
     "output_type": "stream",
     "text": [
      "0.0005132000001140113 seconds\n"
     ]
    }
   ],
   "source": [
    "#let P represent the price list for N = 55 (no of N that would take 1 million years)\n",
    "p = generate_price_list(55)\n",
    "#initialize the counter\n",
    "s = time.perf_counter() \n",
    "\n",
    "#Run the extended bottom up cutting on P and 55\n",
    "extended_bottom_up_cut_rod(p, 55)\n",
    "e = time.perf_counter()  \n",
    "bigtime = (e-s)\n",
    "print(bigtime,'seconds')"
   ]
  },
  {
   "cell_type": "markdown",
   "metadata": {},
   "source": [
    "It will only take the dynamic method 0.0005132000001140113 seconds to solve the rod cutting problem that takes its counter part a million years to solve."
   ]
  },
  {
   "cell_type": "markdown",
   "metadata": {
    "deletable": false,
    "editable": false,
    "nbgrader": {
     "checksum": "f273d3c9906b4a2f9069dec4ec6d9e98",
     "grade": false,
     "grade_id": "cell-570ff6554dfb5b4f",
     "locked": true,
     "schema_version": 1,
     "solution": false
    }
   },
   "source": [
    "## [Optional]  Question 3 [time estimate: 5 minutes]\n",
    "Do you notice anything peculiar about the solution for large n?"
   ]
  },
  {
   "cell_type": "markdown",
   "metadata": {
    "deletable": false,
    "nbgrader": {
     "checksum": "15a99ef0f160ca439cb8be6e2c4f2384",
     "grade": true,
     "grade_id": "cell-fd4c9c91a42f178a",
     "locked": false,
     "points": 0,
     "schema_version": 1,
     "solution": true
    }
   },
   "source": [
    "YOUR ANSWER HERE"
   ]
  }
 ],
 "metadata": {
  "kernelspec": {
   "display_name": "Python 3",
   "language": "python",
   "name": "python3"
  },
  "language_info": {
   "codemirror_mode": {
    "name": "ipython",
    "version": 3
   },
   "file_extension": ".py",
   "mimetype": "text/x-python",
   "name": "python",
   "nbconvert_exporter": "python",
   "pygments_lexer": "ipython3",
   "version": "3.8.3"
  }
 },
 "nbformat": 4,
 "nbformat_minor": 2
}
