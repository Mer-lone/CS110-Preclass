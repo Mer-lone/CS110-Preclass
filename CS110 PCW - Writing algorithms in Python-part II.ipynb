{
 "cells": [
  {
   "cell_type": "markdown",
   "metadata": {},
   "source": [
    "Before you turn this problem in, make sure everything runs as expected. First, **restart the kernel** (in the menubar, select Kernel$\\rightarrow$Restart) and then **run all cells** (in the menubar, select Cell$\\rightarrow$Run All).\n",
    "\n",
    "Note that this Pre-class Work is estimated to take **38 minutes**.\n",
    "\n",
    "Make sure you fill in any place that says `YOUR CODE HERE` or \"YOUR ANSWER HERE\", as well as your name and collaborators below:"
   ]
  },
  {
   "cell_type": "code",
   "execution_count": null,
   "metadata": {},
   "outputs": [],
   "source": [
    "NAME = \"Adaobi Amanna\"\n",
    "COLLABORATORS = \"\""
   ]
  },
  {
   "cell_type": "markdown",
   "metadata": {},
   "source": [
    "---"
   ]
  },
  {
   "cell_type": "markdown",
   "metadata": {
    "deletable": false,
    "editable": false,
    "nbgrader": {
     "checksum": "df135f0c4ea26cc7c0b25cb64a20e634",
     "grade": false,
     "grade_id": "cell-b46066345313bea6",
     "locked": true,
     "schema_version": 1,
     "solution": false
    }
   },
   "source": [
    "# CS110 Pre-class Work - Writing algorithms in Python--part II\n",
    "\n",
    "## Question 1 [time estimate: 3 minutes]\n",
    "\n",
    "Why would you use a class with its methods and attributes rather than defining a function in the main block of your code? Feel free to use the examples given in the Study Guide, or feel free to provide your own."
   ]
  },
  {
   "cell_type": "markdown",
   "metadata": {
    "deletable": false,
    "nbgrader": {
     "checksum": "104f443d240e2139d778711f6bc0a766",
     "grade": true,
     "grade_id": "cell-3bac59ff24b11a27",
     "locked": false,
     "points": 0,
     "schema_version": 1,
     "solution": true
    }
   },
   "source": [
    "A class provides an aggregate of functions that can be duplicated to accommodate multiple instances. On the other hand, a function just performs a specific task like calculating account balance, time spent logged in etc. Class provides the organizational ability to coordinate multiple instances with similar attributes. It is better than creating numerous functions for each of them. \n",
    "\n",
    "For example in the preclass work, a single class - customer, can hole the attributes of numerous customers like account balance, and banking information. Infact it serves as a blue print for creating multiple other objects and reduces redundancy."
   ]
  },
  {
   "cell_type": "markdown",
   "metadata": {
    "deletable": false,
    "editable": false,
    "nbgrader": {
     "checksum": "7872c2d656a6cb3aaeff2b4fa41eb204",
     "grade": false,
     "grade_id": "cell-0ca65d04b209f37f",
     "locked": true,
     "schema_version": 1,
     "solution": false
    }
   },
   "source": [
    "## Question 2 [time estimate: 3 minutes]\n",
    "\n",
    "What are the benefits of having instance attributes? Explain your answer."
   ]
  },
  {
   "cell_type": "markdown",
   "metadata": {
    "deletable": false,
    "nbgrader": {
     "checksum": "4ff5af35daed9a5442ba229263bdde33",
     "grade": true,
     "grade_id": "cell-442998d5fdd8b561",
     "locked": false,
     "points": 0,
     "schema_version": 1,
     "solution": true
    }
   },
   "source": [
    "An instance attribute is a Python variable belonging to only one object. it is unique to the assigned object and defined by the $init$. Hence, it makes it easy to access a specific object since it is unique to that object. It is also used to accommodate all the attributes of a specific object."
   ]
  },
  {
   "cell_type": "markdown",
   "metadata": {
    "deletable": false,
    "editable": false,
    "nbgrader": {
     "checksum": "9d7a3b260b0fef93382fb52aa393f963",
     "grade": false,
     "grade_id": "cell-0ac1c20b43acb363",
     "locked": true,
     "schema_version": 1,
     "solution": false
    }
   },
   "source": [
    "## Question 3 [time estimate: 3 minutes]\n",
    "\n",
    "Why would you want to introduce these attributes inside the `__init__` method rather than in another place like a method of its own? Explain your answer."
   ]
  },
  {
   "cell_type": "markdown",
   "metadata": {
    "deletable": false,
    "nbgrader": {
     "checksum": "eb02c9951e19ee43d128fa93dd53eaad",
     "grade": true,
     "grade_id": "cell-5ecb51404140cb2f",
     "locked": false,
     "points": 0,
     "schema_version": 1,
     "solution": true
    }
   },
   "source": [
    "The init method is known as a constructor, when it is called, an object is created from the class and it allow the class to initialize the attributes of a class. If we introduce these attributes elsewhere, the class will not be fully initialized. "
   ]
  },
  {
   "cell_type": "markdown",
   "metadata": {
    "deletable": false,
    "editable": false,
    "nbgrader": {
     "checksum": "cb0b8b9c4b153530d47b437baa24098d",
     "grade": false,
     "grade_id": "cell-b22dce6b32afe1a9",
     "locked": true,
     "schema_version": 1,
     "solution": false
    }
   },
   "source": [
    "## Question 4 [time estimate: 7 minutes]\n",
    "\n",
    "Write a Python class, called `Minervan`, where an instance of this class should represent a Minerva student.\n",
    "\n",
    "For example, Jake is a Minerva student that we want to represent using this class. He is 22 years old, originally from Australia, and is on the class of 2022. He is majoring in Computational Sciences. \n",
    "\n",
    "In the following code cell, write your `Minervan` class, which should contain relevant methods and attributes you can come up with. Justify your choice of methods and attributes in the markdown cell below."
   ]
  },
  {
   "cell_type": "code",
   "execution_count": 3,
   "metadata": {
    "deletable": false,
    "nbgrader": {
     "checksum": "eb02c9951e19ee43d128fa93dd53eaad",
     "grade": true,
     "grade_id": "cell-5ecb51404140cb2f",
     "locked": false,
     "points": 0,
     "schema_version": 1,
     "solution": true
    }
   },
   "outputs": [
    {
     "name": "stdout",
     "output_type": "stream",
     "text": [
      "Hi, my name is Jake\n",
      "I am 22 years old.\n",
      "I come from Australia\n",
      "I am part of the class of m22\n",
      "I am majoring in Computer Sience\n",
      "I am currently in Berlin\n",
      "None\n",
      "Hi, my name is Anitha\n",
      "I am 20 years old.\n",
      "I come from USA\n",
      "I am part of the class of m22\n",
      "I am majoring in Natural Sience\n",
      "I am currently in Berlin\n",
      "None\n"
     ]
    }
   ],
   "source": [
    "class Minervan:\n",
    "    \n",
    "    \n",
    "    def __init__ (self, name, age, country, year, major, current_city):\n",
    "        \n",
    "        self.name = name \n",
    "        self.age = age\n",
    "        self.country = country\n",
    "        self.year = year\n",
    "        self.major = major \n",
    "        self.current_city = current_city\n",
    "        \n",
    "        \n",
    "    def introduce_yourself(self):\n",
    "        print(\"Hi, my name is\", self.name)\n",
    "        print(\"I am\", self.age, \"years old.\")\n",
    "        print(\"I come from\", self.country)\n",
    "        print(\"I am part of the class of\", self.year)\n",
    "        print(\"I am majoring in\", self.major)\n",
    "        print(\"I am currently in\", self.current_city)\n",
    "        \n",
    "        \n",
    "\n",
    "jake = Minervan(\"Jake\", 22, \"Australia\", \"m22\", \"Computer Sience\", \"Berlin\")\n",
    "print(jake.introduce_yourself())\n",
    "\n",
    "anitha = Minervan(\"Anitha\", 20, \"USA\", \"m22\", \"Natural Sience\", \"Berlin\")\n",
    "print(anitha.introduce_yourself())\n"
   ]
  },
  {
   "cell_type": "markdown",
   "metadata": {
    "deletable": false,
    "nbgrader": {
     "checksum": "eb02c9951e19ee43d128fa93dd53eaad",
     "grade": true,
     "grade_id": "cell-5ecb51404140cb2f",
     "locked": false,
     "points": 0,
     "schema_version": 1,
     "solution": true
    }
   },
   "source": [
    "I used attributes that defines a Minerva student and are relevant when introducing yourself to other Minervans like your name, country, major etc. it makes you relatable to other Minervans who might have a siilar interest as you do."
   ]
  },
  {
   "cell_type": "markdown",
   "metadata": {
    "deletable": false,
    "editable": false,
    "nbgrader": {
     "checksum": "cb0b8b9c4b153530d47b437baa24098d",
     "grade": false,
     "grade_id": "cell-b22dce6b32afe1a9",
     "locked": true,
     "schema_version": 1,
     "solution": false
    }
   },
   "source": [
    "## Question 5 [time estimate: 7 minutes]\n",
    "\n",
    "Now add another student, named 'Anitha', as an instance of this class. Choose the relevant attributes for this new student. Which question took you longer to answer—Q4 or Q5? Why?"
   ]
  },
  {
   "cell_type": "markdown",
   "metadata": {
    "deletable": false,
    "nbgrader": {
     "checksum": "eb02c9951e19ee43d128fa93dd53eaad",
     "grade": true,
     "grade_id": "cell-5ecb51404140cb2f",
     "locked": false,
     "points": 0,
     "schema_version": 1,
     "solution": true
    }
   },
   "source": [
    "Obviously, Q4 took longer because I had to specify all the attributes and necessary methods. This time, I only had to recycle the attributes for Anitha. I did not need to run it over again."
   ]
  },
  {
   "cell_type": "markdown",
   "metadata": {
    "deletable": false,
    "editable": false,
    "nbgrader": {
     "checksum": "cb0b8b9c4b153530d47b437baa24098d",
     "grade": false,
     "grade_id": "cell-b22dce6b32afe1a9",
     "locked": true,
     "schema_version": 1,
     "solution": false
    }
   },
   "source": [
    "## Question 6 [time estimate: 15 minutes] \n",
    "\n",
    "During the session, we will work on the challenging task of computing the course grade for a student given the grades he/she received in each LOs. \n",
    "\n",
    "The algorithm to follow is as follows:\n",
    "\n",
    "Terminology:\n",
    "LO = Learning Objective\n",
    "CO = Course Objective\n",
    "CG = Course Grade\n",
    "\n",
    "Algorithm for computing CGs:\n",
    "1. We first consider the LO grades within each course objective (CO), and compute the weighted mean (using each of the relevant LO grades and corresponding weights). Each course objective will now have an average grade.\n",
    "2. We then compute the average of the COs, to get the CG.\n",
    "\n",
    "We're only going to compute the course grades for Jake, at least for now.\n",
    "\n",
    "\n",
    "### Question 6a\n",
    "\n",
    "In this course there is only 1 course objective called A. Given the grades Jake received for each LO presented on the table below, compute his current course grade manually, following the algorithm above.\n",
    "\n",
    "\n",
    "CO | LO | Weight | Grade | CO Grade\n",
    "--- | --- | --- | --- | ---\n",
    "A | alpha | 1 | 3 |\n",
    "A | alpha | 2 | 2 |\n",
    "A | beta  | 1 | 4 |\n",
    "A | beta  | 2 | 3 |\n",
    "A | beta  | 3 | 2 |\n",
    "A | beta  | 1 | 3 |"
   ]
  },
  {
   "cell_type": "markdown",
   "metadata": {
    "deletable": false,
    "nbgrader": {
     "checksum": "eb02c9951e19ee43d128fa93dd53eaad",
     "grade": true,
     "grade_id": "cell-5ecb51404140cb2f",
     "locked": false,
     "points": 0,
     "schema_version": 1,
     "solution": true
    }
   },
   "source": [
    "### Manual grade calculation\n",
    "Total grade = 3 + 4 + 4 + 6 + 6 + 3 = 26\n",
    "\n",
    "Total course weight = 10\n",
    "\n",
    "Average = 26/10 = 2.6\n",
    "\n"
   ]
  },
  {
   "cell_type": "markdown",
   "metadata": {
    "deletable": false,
    "editable": false,
    "nbgrader": {
     "checksum": "cb0b8b9c4b153530d47b437baa24098d",
     "grade": false,
     "grade_id": "cell-b22dce6b32afe1a9",
     "locked": true,
     "schema_version": 1,
     "solution": false
    }
   },
   "source": [
    "### Question 6b\n",
    "\n",
    "The academic team has now introduced an extra course objective, B, and Jake has just received a grade for an LO belonging to this new CO. Compute, manually, what his current course grade is.\n",
    "\n",
    "CO | LO | Weight | Grade | CO Grade | Course Grade\n",
    "--- | --- | --- | --- | --- | ---\n",
    "A | alpha | 1 | 3 |\n",
    "A | alpha | 2 | 2 |\n",
    "A | beta  | 1 | 4 |\n",
    "A | beta  | 2 | 3 |\n",
    "A | beta  | 3 | 2 |\n",
    "A | beta  | 1 | 3 |\n",
    "B | gamma | 2 | 5 |\n",
    "\n",
    "What is the impact of this new LO grade? "
   ]
  },
  {
   "cell_type": "markdown",
   "metadata": {
    "deletable": false,
    "nbgrader": {
     "checksum": "eb02c9951e19ee43d128fa93dd53eaad",
     "grade": true,
     "grade_id": "cell-5ecb51404140cb2f",
     "locked": false,
     "points": 0,
     "schema_version": 1,
     "solution": true
    }
   },
   "source": [
    "CO(B) = 5\n",
    "CG = (CO(A) + CO(B)) / 2 = (2.6 + 5)/ 2 = 3.8"
   ]
  },
  {
   "cell_type": "markdown",
   "metadata": {
    "deletable": false,
    "editable": false,
    "nbgrader": {
     "checksum": "cb0b8b9c4b153530d47b437baa24098d",
     "grade": false,
     "grade_id": "cell-b22dce6b32afe1a9",
     "locked": true,
     "schema_version": 1,
     "solution": false
    }
   },
   "source": [
    "### Question 6c\n",
    "\n",
    "Describe here, using at least 100 words, how you would perform this calculation using a Python class."
   ]
  },
  {
   "cell_type": "markdown",
   "metadata": {
    "deletable": false,
    "nbgrader": {
     "checksum": "eb02c9951e19ee43d128fa93dd53eaad",
     "grade": true,
     "grade_id": "cell-5ecb51404140cb2f",
     "locked": false,
     "points": 0,
     "schema_version": 1,
     "solution": true
    }
   },
   "source": [
    "First, I will create a method = course_grade, that will receive all the CO grades for specific courses A and B. This method will be a nested list. For each CO, the array would contain a the weight of the course at index 0 and the grade at index 1. Then would perform the operation of taking the average of each CO by multiplying the grades and corresponding weight of each course under A then dividing it by the total sum of weights. it will do the same for B. Then will combine each unique CO, A+ B and return their average."
   ]
  },
  {
   "cell_type": "code",
   "execution_count": null,
   "metadata": {},
   "outputs": [],
   "source": []
  }
 ],
 "metadata": {
  "kernelspec": {
   "display_name": "Python 3",
   "language": "python",
   "name": "python3"
  },
  "language_info": {
   "codemirror_mode": {
    "name": "ipython",
    "version": 3
   },
   "file_extension": ".py",
   "mimetype": "text/x-python",
   "name": "python",
   "nbconvert_exporter": "python",
   "pygments_lexer": "ipython3",
   "version": "3.8.3"
  }
 },
 "nbformat": 4,
 "nbformat_minor": 2
}
