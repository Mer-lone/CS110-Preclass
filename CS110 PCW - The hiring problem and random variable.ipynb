{
 "cells": [
  {
   "cell_type": "markdown",
   "metadata": {},
   "source": [
    "Before you turn this problem in, make sure everything runs as expected. First, **restart the kernel** (in the menubar, select Kernel$\\rightarrow$Restart) and then **run all cells** (in the menubar, select Cell$\\rightarrow$Run All).\n",
    "\n",
    "Note that this Pre-class Work is estimated to take **48 minutes**.\n",
    "\n",
    "Make sure you fill in any place that says `YOUR CODE HERE` or \"YOUR ANSWER HERE\", as well as your name and collaborators below:"
   ]
  },
  {
   "cell_type": "code",
   "execution_count": null,
   "metadata": {},
   "outputs": [],
   "source": [
    "NAME = \"Adaobi Amannae\"\n",
    "COLLABORATORS = \"\""
   ]
  },
  {
   "cell_type": "markdown",
   "metadata": {},
   "source": [
    "---"
   ]
  },
  {
   "cell_type": "markdown",
   "metadata": {
    "deletable": false,
    "editable": false,
    "nbgrader": {
     "checksum": "b8900745b9d1bdb9a4e15c7640ab61f5",
     "grade": false,
     "grade_id": "cell-90b6f68e307cf4d7",
     "locked": true,
     "schema_version": 1,
     "solution": false
    }
   },
   "source": [
    "# CS110 Pre-class Work - Hiring problem and random variables\n",
    "\n",
    "## Part A. The Hire-Assistant Problem.\n",
    "\n",
    "Imagine that you need to hire a new assistant. Every day an agency sends a new assistant for you to interview. If the assistant is better than your current assistant, then you fire your current assistant and you hire the better assistant. You may assume that assistant quality is uniformly distributed between 0 and 1.\n",
    "\n",
    "## Question 1 [time estimate: 5 minutes]\n",
    "Write a function, named hire_assistant, that takes applicants (a list of the numbers that represent the level of qualification of the applicants; the higher the number, the better qualified), and returns the number hires if the applicants are presented in the exact same order as the input list applicants. Note that your function should not randomize anything (or else it would be called a randomized algorithm)."
   ]
  },
  {
   "cell_type": "code",
   "execution_count": 11,
   "metadata": {
    "deletable": false,
    "nbgrader": {
     "checksum": "3e823066b88c3701b5aa6feb0b29ea00",
     "grade": false,
     "grade_id": "cell-d011f5f4707fe41a",
     "locked": false,
     "schema_version": 1,
     "solution": true
    }
   },
   "outputs": [
    {
     "name": "stdout",
     "output_type": "stream",
     "text": [
      "1\n",
      "1\n",
      "3\n"
     ]
    }
   ],
   "source": [
    "def hire_assistant(applicants):\n",
    "    \"\"\"\n",
    "    This function should output the number of assistants hired.\n",
    "    \n",
    "    Parameters\n",
    "    ----------\n",
    "    applicants : list\n",
    "        A list of the numbers that represent the level of qualification of \n",
    "        the applicants; the higher the number, the better qualified.\n",
    "        \n",
    "    Returns\n",
    "    -------\n",
    "    hires : int\n",
    "        Number of assistants hired.\n",
    "    \n",
    "    \"\"\"\n",
    "    #initalize the dummy variable \n",
    "    best = 0\n",
    "    \n",
    "    #initialize the counter for the number of hires\n",
    "    hire =0\n",
    "    #when no new hire is made, we have just 1 hire for the current assistant\n",
    "    cur_hire =1\n",
    "    \n",
    "    #loop through the applicants and check if the new one is better than the incumbent\n",
    "    for i in applicants:\n",
    "        #if it is, then hire the new assistant\n",
    "        if i>best:\n",
    "            best =i\n",
    "        #increase the number of hires by 1\n",
    "            hire+=1\n",
    "#return the number of hires or current hire, when no new hiring is done\n",
    "#to do this, we take the largest of the hire and cur_hire\n",
    "    return max(hire,cur_hire)\n",
    "            \n",
    "#test cases\n",
    "print(hire_assistant([1]))\n",
    "print(hire_assistant([-1, -2, -3, -4]))\n",
    "print(hire_assistant([0, 2, 3, 4]))"
   ]
  },
  {
   "cell_type": "code",
   "execution_count": 12,
   "metadata": {
    "deletable": false,
    "editable": false,
    "nbgrader": {
     "checksum": "1cf91a3b99ed87bfe9ea81d9a9252e16",
     "grade": true,
     "grade_id": "cell-66778b97ad66f71e",
     "locked": true,
     "points": 1,
     "schema_version": 1,
     "solution": false
    }
   },
   "outputs": [],
   "source": [
    "assert(hire_assistant([1])==1)\n",
    "assert(hire_assistant([-1, -2, -3, -4])==1)"
   ]
  },
  {
   "cell_type": "markdown",
   "metadata": {
    "deletable": false,
    "editable": false,
    "nbgrader": {
     "checksum": "950e8b4c047988bb6493460be72d1bc7",
     "grade": false,
     "grade_id": "cell-e5d810828093b20d",
     "locked": true,
     "schema_version": 1,
     "solution": false
    }
   },
   "source": [
    "## Question 2 [time estimate: 5 minutes]\n",
    "\n",
    "Assuming the applicants are presented in a random order, write a function that receives the number of applicants as input and returns the average number of assistants hired.\n",
    "\n",
    "**N.B.:** Don’t forget to run the simulation several times for each given number of applicants to better estimate the number of hires (please refer to task 3 of the Study Guide)."
   ]
  },
  {
   "cell_type": "code",
   "execution_count": 19,
   "metadata": {
    "deletable": false,
    "nbgrader": {
     "checksum": "7038d9d8cc9239d5ca15f5d21aa986e3",
     "grade": true,
     "grade_id": "cell-b223520ca72942a0",
     "locked": false,
     "points": 0,
     "schema_version": 1,
     "solution": true
    }
   },
   "outputs": [
    {
     "name": "stdout",
     "output_type": "stream",
     "text": [
      "2.374\n",
      "2.843\n"
     ]
    }
   ],
   "source": [
    "import random\n",
    "def experimental_hires(N):\n",
    "    # Initialize a holder for the total hire number\n",
    "    sum_N = 0\n",
    "#simulate over a number of times and generate a random order of lists of applicants\n",
    "    for i in range(1000):    \n",
    "        applicants = random.choices(range(-100,100),k = N)\n",
    "\n",
    "      # call the previous function to find the number of hires and add to the sum \n",
    "        sum_N += hire_assistant(applicants)\n",
    "\n",
    "    # find the average by dividing by the number of simulation\n",
    "    return sum_N/1000\n",
    " \n",
    "#Test cases    \n",
    "print(experimental_hires(12))\n",
    "print(experimental_hires(20))\n",
    "\n"
   ]
  },
  {
   "cell_type": "markdown",
   "metadata": {
    "deletable": false,
    "editable": false,
    "nbgrader": {
     "checksum": "7f78b31a96cb5ddc8eb534ab037d9fee",
     "grade": false,
     "grade_id": "cell-a55a7b3d12ef78bb",
     "locked": true,
     "schema_version": 1,
     "solution": false
    }
   },
   "source": [
    "## Question 3 [time estimtate: 10 minutes]\n",
    "\n",
    "Use the function below, `analytical_hires(N)`, which returns the analytical expected number of hires, given the number of applicants, along with the function you created in question 2 to create a graph with two curves such that:\n",
    "* The x-axis shows the total number of applicants (make sure label the x-axis)\n",
    "* The y-axis shows the average number of hires (make sure label the y-axis)\n",
    "* The graph contains two curves;\n",
    "    * Curve 1: the theoretical performance estimates computed calls to the function `analytical_hires`.\n",
    "    * Curve 2: the simulated or experimental estimates using the function you created in question 2.\n"
   ]
  },
  {
   "cell_type": "code",
   "execution_count": 22,
   "metadata": {
    "deletable": false,
    "editable": false,
    "nbgrader": {
     "checksum": "1e514458253b863a6c69ce09ccd2d9de",
     "grade": false,
     "grade_id": "cell-4092502cb05933d4",
     "locked": true,
     "schema_version": 1,
     "solution": false
    }
   },
   "outputs": [],
   "source": [
    "def analytical_hires(N):\n",
    "    \"\"\"\n",
    "    This function returns the analytical expected number of\n",
    "    hires if there are N applicants\n",
    "    \n",
    "    Parameters\n",
    "    ----------\n",
    "    N : int\n",
    "        Number of applicants\n",
    "        \n",
    "    Returns\n",
    "    -------\n",
    "    hires : float\n",
    "        Average number of assistants hired\n",
    "    \n",
    "    Note\n",
    "    ----\n",
    "    From the textbook, we know that the analytical result is\n",
    "    \n",
    "        1 + 1/2 + 1/3 + ... + 1/N\n",
    "        \n",
    "    \"\"\"\n",
    "    hires = 0\n",
    "    for n in range(N):\n",
    "        hires += 1/(n+1)\n",
    "    return hires"
   ]
  },
  {
   "cell_type": "code",
   "execution_count": 25,
   "metadata": {
    "deletable": false,
    "nbgrader": {
     "checksum": "055b3a48707a83f9330ab3b00c45144a",
     "grade": true,
     "grade_id": "cell-f9c07920c069ce20",
     "locked": false,
     "points": 0,
     "schema_version": 1,
     "solution": true
    }
   },
   "outputs": [
    {
     "data": {
      "image/png": "[encoded data removed]",
      "text/plain": [
       "<Figure size 432x288 with 1 Axes>"
      ]
     },
     "metadata": {
      "needs_background": "light"
     },
     "output_type": "display_data"
    }
   ],
   "source": [
    "#import the necessary function to plot\n",
    "import matplotlib.pyplot as plt\n",
    "%matplotlib inline\n",
    "\n",
    "\n",
    "# initialize 2 empty lists to hold the experimental and analytical hire \n",
    "Analytical_list = []\n",
    "Experimental_list = []\n",
    "\n",
    "# run simulations for n number of hires and add to the lists created above \n",
    "for n in range(100):\n",
    "    Experimental_list.append(experimental_hires(n))\n",
    "    Analytical_list.append(analytical_hires(n))\n",
    "\n",
    "    #plot two line plots to accommodate the 2 lists\n",
    "plt.plot(range(100), Experimental_list, color='r')\n",
    "plt.plot(range(100), Analytical_list, color='b')\n",
    "#Always label your axis\n",
    "plt.ylabel('Average number of hires') \n",
    "plt.xlabel('Total number of applicants') \n",
    "\n",
    "#add a legend for ease of interpretation\n",
    "plt.legend(('Experimental Hires', 'Analytical Hires'))\n",
    "#visualize the graph\n",
    "plt.show()\n"
   ]
  },
  {
   "cell_type": "markdown",
   "metadata": {
    "deletable": false,
    "editable": false,
    "nbgrader": {
     "checksum": "f5c0fc54ac7e38140eacf7a0d3877a00",
     "grade": false,
     "grade_id": "cell-8720f8d8a6a98422",
     "locked": true,
     "schema_version": 1,
     "solution": false
    }
   },
   "source": [
    "## Question 4 [time estimate: 10 minutes]\n",
    "\n",
    "Plot a graph with the x-axis showing the total number of applicants and the y-axis showing the probability that exactly one assistant is hired."
   ]
  },
  {
   "cell_type": "code",
   "execution_count": 30,
   "metadata": {
    "deletable": false,
    "nbgrader": {
     "checksum": "99500575978918dad34be4dfe49fff36",
     "grade": true,
     "grade_id": "cell-d3fe1b7d6d175ad7",
     "locked": false,
     "points": 0,
     "schema_version": 1,
     "solution": true
    }
   },
   "outputs": [
    {
     "data": {
      "image/png": "[encoded data removed]",
      "text/plain": [
       "<Figure size 432x288 with 1 Axes>"
      ]
     },
     "metadata": {
      "needs_background": "light"
     },
     "output_type": "display_data"
    }
   ],
   "source": [
    "#import the necessary library\n",
    "import matplotlib.pyplot as plt\n",
    "%matplotlib inline\n",
    "#create an empty list to hold the x and y varaibles\n",
    "x = []\n",
    "y = []\n",
    "#let x hold the total number of applicants within the specified range\n",
    "for i in range(1,101):\n",
    "    x.append(i)\n",
    "#let y be the probability of hiring 1 assitant for every given range\n",
    "for i in range(100):\n",
    "    y.append(1/x[i])\n",
    "\n",
    "plt.plot(x, y)\n",
    "plt.xlabel('Total number of applicants')\n",
    "plt.ylabel('Probability of hiring exactly one assistant')\n",
    "plt.show()\n"
   ]
  },
  {
   "cell_type": "markdown",
   "metadata": {
    "deletable": false,
    "editable": false,
    "nbgrader": {
     "checksum": "5721e2312411a707d06a42f45aa28d6a",
     "grade": false,
     "grade_id": "cell-2bd2500c3ca4cf02",
     "locked": true,
     "schema_version": 1,
     "solution": false
    }
   },
   "source": [
    "## [Optional] Question 5 [time estimate: 15 minutes]\n",
    "Assume that an assistant is able to perform an amount of work each day that is equal to their “quality”. You have a total amount of work M that needs to be accomplished. Your costs are as follows:\n",
    "* X = daily salary for the assistant,\n",
    "* Y = fee to the employment agency,\n",
    "* Z = retrenchment fee for the old assistant.\n",
    "\n",
    "Try to formulate an optimal stopping rule (i.e., at what point should one stop requesting new potential hires from the agency?) Make any necessary assumptions to ensure the problem is well-formulated.\n"
   ]
  },
  {
   "cell_type": "code",
   "execution_count": null,
   "metadata": {
    "deletable": false,
    "nbgrader": {
     "checksum": "43b6a51878665a39b0ede1313448eaa6",
     "grade": true,
     "grade_id": "cell-af2f0291eced6982",
     "locked": false,
     "points": 0,
     "schema_version": 1,
     "solution": true
    }
   },
   "outputs": [],
   "source": [
    "# YOUR CODE HERE\n",
    "raise NotImplementedError()"
   ]
  },
  {
   "cell_type": "markdown",
   "metadata": {
    "deletable": false,
    "editable": false,
    "nbgrader": {
     "checksum": "33ac7721d636faf76ce7bdbda1b443d6",
     "grade": false,
     "grade_id": "cell-92211f5b42929c46",
     "locked": true,
     "schema_version": 1,
     "solution": false
    }
   },
   "source": [
    "## Part B. The Hat Check Problem.\n",
    "\n",
    "There is a coat check at a party, where an attendant stores everyone’s hat while they attend the party. The attendant receives the N hats from everyone attending (all attendees come with a hat). Unfortunately, the coat check attendant forgets which hat belongs to whom. Rather than admitting a mistake, the attendant simply returns random hats back to the party-goers. \n",
    "\n",
    "What is the average number of correct hats returned? Here are some guiding questions to help you to simulate this problem. \n",
    "\n",
    "## Question 1 [time estimate: 3 minutes]\n",
    "Knowing that everyone’s hats are unique and every guest has a hat, do you need to generate a random sample in a similar way as what you did for the hiring assistant problem? "
   ]
  },
  {
   "cell_type": "markdown",
   "metadata": {
    "deletable": false,
    "nbgrader": {
     "checksum": "259c6115bee56676178f28ab36d6db2f",
     "grade": true,
     "grade_id": "cell-e786799fc4eb1499",
     "locked": false,
     "points": 0,
     "schema_version": 1,
     "solution": true
    }
   },
   "source": [
    "I don't think so, in the random assistant problem, we introduced randomization because we do not know the order that each candidate is interviewed. But in this case, the order does not really matter, the goal is to get the right hat to the right person so we do not need to randomized again."
   ]
  },
  {
   "cell_type": "markdown",
   "metadata": {
    "deletable": false,
    "editable": false,
    "nbgrader": {
     "checksum": "c9f8182f3dd59f572cb797f373fb7464",
     "grade": false,
     "grade_id": "cell-e2f68e2bd4c2d099",
     "locked": true,
     "schema_version": 1,
     "solution": false
    }
   },
   "source": [
    "## Question 2 [time estimate: 3 minutes]\n",
    "\n",
    "Which of the following commands do you think is the Pythonic way to implement that? \n",
    "```\n",
    "import numpy as np\n",
    "n = 100 #the number of party attendants\n",
    "```\n",
    "**Command 1.**\n",
    "```\n",
    "hat_list = [np.random.integers(0,n) for i in range(n)]\n",
    "```\n",
    "**Command 2.**\n",
    "```\n",
    "hat_list = list(range(n)) \n",
    "np.random.shuffle(hat_list) \n",
    "```\n",
    "**Command 3.**\n",
    "```\n",
    "hat_list = np.random.sample(n)\n",
    "```"
   ]
  },
  {
   "cell_type": "code",
   "execution_count": 34,
   "metadata": {},
   "outputs": [
    {
     "name": "stdout",
     "output_type": "stream",
     "text": [
      "[49, 99, 80, 84, 38, 71, 64, 10, 16, 57, 53, 83, 94, 95, 41, 76, 85, 42, 28, 33, 34, 21, 0, 9, 35, 44, 97, 12, 45, 15, 17, 19, 3, 50, 58, 24, 20, 91, 40, 7, 36, 82, 22, 79, 78, 14, 27, 55, 67, 32, 62, 5, 73, 43, 39, 6, 13, 92, 48, 77, 75, 69, 88, 89, 93, 23, 98, 11, 31, 87, 96, 63, 52, 30, 68, 26, 60, 86, 51, 25, 72, 70, 66, 90, 74, 61, 29, 18, 47, 54, 59, 37, 81, 8, 4, 2, 65, 1, 56, 46]\n",
      "[0.76554891 0.68007148 0.99207547 0.65351306 0.77166194 0.18958564\n",
      " 0.43413284 0.99498608 0.76675282 0.79497684 0.49075045 0.89404925\n",
      " 0.78855416 0.95888289 0.21839269 0.78294139 0.11026397 0.65733768\n",
      " 0.35734323 0.86526713 0.2934138  0.53041909 0.47514034 0.3781923\n",
      " 0.98593044 0.75109953 0.3557449  0.83407816 0.20084005 0.24837506\n",
      " 0.38540929 0.540028   0.42877867 0.25020389 0.14815247 0.22970263\n",
      " 0.5997378  0.75207997 0.95012712 0.76053584 0.59069059 0.47478943\n",
      " 0.91532788 0.66761722 0.70049625 0.92648583 0.00562175 0.37246282\n",
      " 0.5532479  0.35762963 0.58933832 0.77198588 0.93571889 0.64548947\n",
      " 0.07214976 0.93694058 0.90163688 0.32766162 0.15340848 0.12687388\n",
      " 0.42504706 0.78584836 0.90424446 0.91664098 0.62770109 0.70976998\n",
      " 0.58666922 0.37780821 0.34381848 0.91941406 0.97478166 0.50761441\n",
      " 0.50121444 0.00732635 0.05493985 0.43131766 0.23412213 0.10384399\n",
      " 0.99901467 0.89026257 0.15225776 0.6381741  0.79935157 0.87977713\n",
      " 0.56999017 0.52578298 0.29714541 0.16976836 0.50885737 0.63842141\n",
      " 0.67329203 0.60248557 0.22091562 0.05415232 0.44058746 0.36302535\n",
      " 0.4072079  0.75623904 0.71277027 0.42165548]\n"
     ]
    }
   ],
   "source": [
    "import numpy as np\n",
    "n = 100\n",
    "#command 2\n",
    "hat_list_1 = list(range(n)) \n",
    "np.random.shuffle(hat_list_1)\n",
    "print(hat_list_1)\n",
    "#command 3\n",
    "hat_list = np.random.sample(n)\n",
    "print(hat_list)"
   ]
  },
  {
   "cell_type": "markdown",
   "metadata": {
    "deletable": false,
    "nbgrader": {
     "checksum": "b5e83025692b2772640e9e58f0f36af1",
     "grade": true,
     "grade_id": "cell-b8da78e72c1c0738",
     "locked": false,
     "points": 0,
     "schema_version": 1,
     "solution": true
    }
   },
   "source": [
    "From the implementations above, we see that command 1 has a syntax error, so it is ruled out.\n",
    "\n",
    "command 2 generates a list of integers, then shuffles them to give a randomized list.\n",
    "commad 3 only outputs decimals which are not fitting for this context.\n",
    "\n",
    "Hence, command 2 is the pythonic way to go."
   ]
  },
  {
   "cell_type": "markdown",
   "metadata": {
    "deletable": false,
    "editable": false,
    "nbgrader": {
     "checksum": "ec25d5c32cc709928fa50666f21d9808",
     "grade": false,
     "grade_id": "cell-8915979a0b8cf6ce",
     "locked": true,
     "schema_version": 1,
     "solution": false
    }
   },
   "source": [
    "## Question 3 [time estimate: 5 minutes]\n",
    "\n",
    "Now write a function `hat_check(N)` that has: \n",
    "* Input: N the number of party attendants. \n",
    "* Output: the number of hats correctly returned despite the fact that hats are randomly handed back to the guests.\n",
    "\n",
    "You should use the command you picked for question 2. "
   ]
  },
  {
   "cell_type": "code",
   "execution_count": 49,
   "metadata": {
    "deletable": false,
    "nbgrader": {
     "checksum": "c37f6cdc2ca8cbb92644fa2746445779",
     "grade": true,
     "grade_id": "cell-c8499aeb1b1d76c7",
     "locked": false,
     "points": 0,
     "schema_version": 1,
     "solution": true
    }
   },
   "outputs": [
    {
     "name": "stdout",
     "output_type": "stream",
     "text": [
      "1\n",
      "0\n",
      "1\n"
     ]
    }
   ],
   "source": [
    "#import the necessary library\n",
    "import numpy as np\n",
    "def hat_check(N):\n",
    "    \n",
    "#create a list to represent the original ordered hats\n",
    "    ordered_hats =  list(range(N))\n",
    "#shuffle the list to compare the number assigned correctly randomly\n",
    "    np.random.shuffle(ordered_hats)\n",
    "    #initialize a counter for the number of correctly assigned hat\n",
    "    count = 0\n",
    "#loop through the number of elements, and check for correct pairing \n",
    "    for i in range(N):\n",
    "        if (ordered_hats[i] ==i):\n",
    "    #return the number rightly paired\n",
    "            count += 1\n",
    "    return count\n",
    "\n",
    "#test case\n",
    "print(hat_check(50))\n",
    "print(hat_check(55))\n",
    "print(hat_check(900))\n"
   ]
  },
  {
   "cell_type": "markdown",
   "metadata": {
    "deletable": false,
    "editable": false,
    "nbgrader": {
     "checksum": "1ff8b95312de63513a2107ffb7ab9d5a",
     "grade": false,
     "grade_id": "cell-086d4cc0fc5b0155",
     "locked": true,
     "schema_version": 1,
     "solution": false
    }
   },
   "source": [
    "## Question 4 [time estimate: 7 minutes]\n",
    "\n",
    "Plot a curve with the x-axis showing the total number of party attendants and the y-axis showing the average number of hats correctly returned. As always, remember to run several trials. "
   ]
  },
  {
   "cell_type": "code",
   "execution_count": 51,
   "metadata": {
    "deletable": false,
    "nbgrader": {
     "checksum": "c4d1251529b962f3d3ce28f6ac9f244e",
     "grade": true,
     "grade_id": "cell-597031ea2a5a512a",
     "locked": false,
     "points": 0,
     "schema_version": 1,
     "solution": true
    }
   },
   "outputs": [
    {
     "data": {
      "image/png": "[encoded data removed]",
      "text/plain": [
       "<Figure size 432x288 with 1 Axes>"
      ]
     },
     "metadata": {
      "needs_background": "light"
     },
     "output_type": "display_data"
    }
   ],
   "source": [
    "#first write a function to calculate the average hat got right\n",
    "def average_hat_check(N):\n",
    "    \"\"\"\n",
    "    Returns the average number of hats correctly assigned to the rightful owner\n",
    "    \n",
    "    Inputs:\n",
    "    - N: Number of party attendants\n",
    "    Outputs:\n",
    "    - Average Number of hats correctly returned \n",
    "    \"\"\"   \n",
    "\n",
    "    # initialize a holder for the sum\n",
    "    sum_h = 0\n",
    "# iterate for a number of times and return the average return the average correctly returned hat number\n",
    "    for i in range(100):\n",
    "        sum_h += hat_check(N)\n",
    "\n",
    "    return sum_h/100\n",
    "\n",
    "\n",
    "# create an empty list for storing the average number of hats correctly returned\n",
    "correct_hat = []\n",
    "\n",
    "# iterate over a number of times and append the average into the new list\n",
    "for x in range(100):\n",
    "    correct_hat.append(average_hat_check(x))\n",
    "#create a plot to represent the behavior of the simulations with increasing number of variables\n",
    "plt.plot(range(100), correct_hat, color='g') \n",
    "#always label your axis\n",
    "plt.ylabel('Average number of hats correctly returned')\n",
    "plt.xlabel('Number of party attenders')\n",
    "plt.show()\n",
    "\n",
    "\n",
    "#raise NotImplementedError()"
   ]
  },
  {
   "cell_type": "markdown",
   "metadata": {
    "deletable": false,
    "editable": false,
    "nbgrader": {
     "checksum": "aad5d529ed9af56148bfc12691cdb950",
     "grade": false,
     "grade_id": "cell-f74b2078132a5177",
     "locked": true,
     "schema_version": 1,
     "solution": false
    }
   },
   "source": [
    "## [Optional] Question 5 [time estimate: 15 minutes]\n",
    "\n",
    "As $N$ tends to infinity, the number of correct hats returned tends towards a well-known statistical distribution. State the distribution with all its parameters. Plot several samples using your code. Does the empirical distribution match your theoretical prediction?"
   ]
  },
  {
   "cell_type": "markdown",
   "metadata": {
    "deletable": false,
    "nbgrader": {
     "checksum": "33f94a80e6d5d9c371e6c39790bd67eb",
     "grade": true,
     "grade_id": "cell-32fe26c1d99fdd2a",
     "locked": false,
     "points": 0,
     "schema_version": 1,
     "solution": true
    }
   },
   "source": [
    "YOUR ANSWER HERE"
   ]
  }
 ],
 "metadata": {
  "celltoolbar": "Edit Metadata",
  "kernelspec": {
   "display_name": "Python 3",
   "language": "python",
   "name": "python3"
  },
  "language_info": {
   "codemirror_mode": {
    "name": "ipython",
    "version": 3
   },
   "file_extension": ".py",
   "mimetype": "text/x-python",
   "name": "python",
   "nbconvert_exporter": "python",
   "pygments_lexer": "ipython3",
   "version": "3.8.3"
  }
 },
 "nbformat": 4,
 "nbformat_minor": 2
}
