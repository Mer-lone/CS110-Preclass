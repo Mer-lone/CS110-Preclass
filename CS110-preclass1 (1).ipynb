{
 "cells": [
  {
   "cell_type": "markdown",
   "metadata": {},
   "source": [
    "Before you turn this problem in, make sure everything runs as expected. First, **restart the kernel** (in the menubar, select Kernel$\\rightarrow$Restart) and then **run all cells** (in the menubar, select Cell$\\rightarrow$Run All).\n",
    "\n",
    "Note that this Pre-class Work is estimated to take **26 minutes**.\n",
    "\n",
    "Make sure you fill in any place that says `YOUR CODE HERE` or \"YOUR ANSWER HERE\", as well as your name and collaborators below:"
   ]
  },
  {
   "cell_type": "code",
   "execution_count": 1,
   "metadata": {},
   "outputs": [],
   "source": [
    "NAME = \"Adaobi Amanna\"\n",
    "COLLABORATORS = \"None\""
   ]
  },
  {
   "cell_type": "markdown",
   "metadata": {},
   "source": [
    "---"
   ]
  },
  {
   "cell_type": "markdown",
   "metadata": {
    "deletable": false,
    "editable": false,
    "nbgrader": {
     "checksum": "df135f0c4ea26cc7c0b25cb64a20e634",
     "grade": false,
     "grade_id": "cell-b46066345313bea6",
     "locked": true,
     "schema_version": 1,
     "solution": false
    }
   },
   "source": [
    "# CS110 Pre-class Work - Writing algorithms in Python--part I\n",
    "\n",
    "## Question 1 [time estimate: 10 minutes]\n",
    "\n",
    "Palindromes are a sequence of characters (words, phrases, numbers) that can be read the same both from left to right and from right to left. Examples of palindromes include the word 'madam' and the number 12321.\n",
    "\n",
    "1. Explain how you would use an iterative approach, step by step, to check whether a word is a palindrome.\n",
    "2. Explain also how you would approach this problem using a recursive solution.\n",
    "\n",
    "You can use palindromic and non-palindromic words to assist your explanation. "
   ]
  },
  {
   "cell_type": "markdown",
   "metadata": {
    "deletable": false,
    "nbgrader": {
     "checksum": "104f443d240e2139d778711f6bc0a766",
     "grade": true,
     "grade_id": "cell-3bac59ff24b11a27",
     "locked": false,
     "points": 0,
     "schema_version": 1,
     "solution": true
    }
   },
   "source": [
    "1. Iterative Approach:A method of solving the palindrome by iteration will involve converting the all to the same case then comparing the word (moving left to right) with its inverse ( rearranging the letters of the word from right to left). This method will return True if the word is a palindrome; otherwise, it will return false.\n",
    "\n",
    "Algorithm\n",
    "Assumptions: My assumption is that the given word consists of strings. And if it is not, the first step is to convert the given word to string. This is because strings are easily iterable.\n",
    "b. Then I apply slicing to reverse the string from right to left. This entails moving from end to start taking 1 step backwards, illustrated by [::-1]. In python, slicing takes the format [start:end:step] indicating the starting point, ending point and the stepwise increase.\n",
    "c. compare the original string with the reversed string. a==a[::-1]. This returns a boolean value of either true or false.\n",
    "\n",
    "\n",
    "\n",
    "2. Recursive Approach: This approach compares the characters of a string inwards. It starts by analyzing whether the first and the last characters are equal, if they are equal then it moves inwards to check the following characters. Otherwise it halts. It repeats this process till it gets to the center, if they is just one character left, then it is a palindrome. Here the base case is when the characters are not equal while the recursive case is bound by the condition when the characters are equal, then it reapplies the function to the followingcharacters and evaluates if they are equal.\n",
    "\n",
    "Algorithm\n",
    "Assumption: The given word - a is a string. A single letter and an empty string are palindromes because they read the same backward and forward.\n",
    "a. Define the function, specifying the word, the starting index and the ending index.\n",
    "b. Check the length of the string, if it is equal to 0 or 1, return true. This is our base case because the fuction does not call itself.\n",
    "c. Else, compare the first character and the last character using indexing a[0]=a[-1]. If false then the word is not a palindrome. If true increase the starting index by 1 and decrease the ending index by one, and compare again. Keep moving inward and repeat the fucntion until you get to the center. if there is one middle character left, then the word is a palindrome because it reads the same both backward and forward. "
   ]
  },
  {
   "cell_type": "markdown",
   "metadata": {
    "deletable": false,
    "editable": false,
    "nbgrader": {
     "checksum": "7872c2d656a6cb3aaeff2b4fa41eb204",
     "grade": false,
     "grade_id": "cell-0ca65d04b209f37f",
     "locked": true,
     "schema_version": 1,
     "solution": false
    }
   },
   "source": [
    "## Question 2 [time estimate: 3 minutes]\n",
    "\n",
    "How would you prevent your recursive solution from running forever? In other words, what is the base case of your recursive approach?"
   ]
  },
  {
   "cell_type": "markdown",
   "metadata": {
    "deletable": false,
    "nbgrader": {
     "checksum": "4ff5af35daed9a5442ba229263bdde33",
     "grade": true,
     "grade_id": "cell-442998d5fdd8b561",
     "locked": false,
     "points": 0,
     "schema_version": 1,
     "solution": true
    }
   },
   "source": [
    "The base case is when the function does not call itself, in this case, it is when the length of the string is equal to 0 or 1. At this condition, the function does not call itself, hence it will not be placed in an infinite loop."
   ]
  },
  {
   "cell_type": "markdown",
   "metadata": {
    "deletable": false,
    "editable": false,
    "nbgrader": {
     "checksum": "9d7a3b260b0fef93382fb52aa393f963",
     "grade": false,
     "grade_id": "cell-0ac1c20b43acb363",
     "locked": true,
     "schema_version": 1,
     "solution": false
    }
   },
   "source": [
    "## Question 3 [time estimate: 3 minutes]\n",
    "\n",
    "Is there a base case in an iterative approach? Why or why not?"
   ]
  },
  {
   "cell_type": "markdown",
   "metadata": {
    "deletable": false,
    "nbgrader": {
     "checksum": "eb02c9951e19ee43d128fa93dd53eaad",
     "grade": true,
     "grade_id": "cell-5ecb51404140cb2f",
     "locked": false,
     "points": 0,
     "schema_version": 1,
     "solution": true
    }
   },
   "source": [
    "No, there is no base case in an iterative process because we are comparing the origninal word with the reversed word, and there is no scenario where we have to call the function amidst iteration, thus there is no fear of the function running in a eternal loop."
   ]
  },
  {
   "cell_type": "markdown",
   "metadata": {
    "deletable": false,
    "editable": false,
    "nbgrader": {
     "checksum": "cb0b8b9c4b153530d47b437baa24098d",
     "grade": false,
     "grade_id": "cell-b22dce6b32afe1a9",
     "locked": true,
     "schema_version": 1,
     "solution": false
    }
   },
   "source": [
    "## Question 4 [time estimate: 10 minutes]\n",
    "\n",
    "Given the algorithmic strategies you described in question 1, you will now implement these in Python code. Write a function for the iterative approach (using either a `for` or a `while` loop) and another function for the recursive approach. Both functions should return `True` if the provided word is a palindrome, and `False` if the word is not. \n",
    "\n",
    "Validate the correctness of your code by providing examples of words that can be used as test cases. Be prepared to paste your functions and Palindrome words you searched into a Minerva workbook during class."
   ]
  },
  {
   "cell_type": "code",
   "execution_count": 8,
   "metadata": {
    "deletable": false,
    "nbgrader": {
     "checksum": "16ff8874250907a794fdd3fa6c13bbec",
     "grade": false,
     "grade_id": "cell-b709733c96d8b615",
     "locked": false,
     "schema_version": 1,
     "solution": true
    }
   },
   "outputs": [
    {
     "name": "stdout",
     "output_type": "stream",
     "text": [
      "True\n"
     ]
    }
   ],
   "source": [
    "def is_palindrome_iterative(word):\n",
    "    \"\"\"\n",
    "    This function identifies whether a word is a palindrome iteratively.\n",
    "\n",
    "    Parameters\n",
    "    ----------\n",
    "    word : str\n",
    "        Word we wish to check\n",
    "    \n",
    "    Returns\n",
    "    -------\n",
    "    bool\n",
    "        True if input is a palindrome, False otherwise\n",
    "        \n",
    "    \"\"\"\n",
    "    # YOUR CODE HERE\n",
    "    #raise NotImplementedError()\n",
    "    #convert every charcter in the word to the same case - lowercase\n",
    "    if len(word)==0 or 1:\n",
    "        return True\n",
    "    else:\n",
    "        return word.lower()==word.lower()[::-1]\n",
    "print(is_palindrome_iterative(\"Ada\"))"
   ]
  },
  {
   "cell_type": "code",
   "execution_count": 22,
   "metadata": {
    "deletable": false,
    "nbgrader": {
     "checksum": "16ff8874250907a794fdd3fa6c13bbec",
     "grade": false,
     "grade_id": "cell-b709733c96d8b615",
     "locked": false,
     "schema_version": 1,
     "solution": true
    }
   },
   "outputs": [
    {
     "name": "stdout",
     "output_type": "stream",
     "text": [
      "True\n"
     ]
    }
   ],
   "source": [
    "def is_palindrome_recursive(word):\n",
    "    \"\"\"\n",
    "    This function identifies whether a word is a palindrome recursively.\n",
    "\n",
    "    Parameters\n",
    "    ----------\n",
    "    word : str\n",
    "        Word we wish to check\n",
    "    \n",
    "    Returns\n",
    "    -------\n",
    "    boolean\n",
    "        True if input is a palindrome, False otherwise\n",
    "        \n",
    "    \"\"\"\n",
    "    # YOUR CODE HERE\n",
    "    # raise NotImplementedError()\n",
    "    \n",
    "    if len(word) <= 1:\n",
    "        return True\n",
    "    if word[0] == word[-1]:\n",
    "        return is_palindrome_recursive(word[1:-1])\n",
    "    else:\n",
    "        return False\n",
    "print(is_palindrome_recursive('ada'))\n",
    "\n"
   ]
  },
  {
   "cell_type": "code",
   "execution_count": null,
   "metadata": {},
   "outputs": [],
   "source": []
  },
  {
   "cell_type": "code",
   "execution_count": null,
   "metadata": {},
   "outputs": [],
   "source": []
  }
 ],
 "metadata": {
  "celltoolbar": "Edit Metadata",
  "kernelspec": {
   "display_name": "Python 3",
   "language": "python",
   "name": "python3"
  },
  "language_info": {
   "codemirror_mode": {
    "name": "ipython",
    "version": 3
   },
   "file_extension": ".py",
   "mimetype": "text/x-python",
   "name": "python",
   "nbconvert_exporter": "python",
   "pygments_lexer": "ipython3",
   "version": "3.8.3"
  }
 },
 "nbformat": 4,
 "nbformat_minor": 2
}
